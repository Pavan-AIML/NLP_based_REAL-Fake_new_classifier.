{
 "cells": [
  {
   "cell_type": "markdown",
   "metadata": {},
   "source": [
    "<div class=\"alert alert-info\">\n",
    "    <h3 align = center>NLP based Real & Fake news classifier.</h3>\n",
    "    \n",
    "         \n",
    "    \n",
    "</div>"
   ]
  },
  {
   "cell_type": "markdown",
   "metadata": {},
   "source": [
    "## Importing all the necessary `libraries`"
   ]
  },
  {
   "cell_type": "code",
   "execution_count": 4,
   "metadata": {},
   "outputs": [],
   "source": [
    "import pandas as pd\n",
    "import openpyxl\n",
    "import numpy # version == 1.26.4\n",
    "import matplotlib.pyplot as plt\n",
    "import seaborn as sns\n",
    "from sklearn.linear_model import LinearRegression, LogisticRegression, SGDClassifier\n",
    "from sklearn.metrics import accuracy_score, classification_report\n",
    "from spacy import displacy   \n",
    "from spacy import tokenizer\n",
    "import re\n",
    "import spacy\n",
    "import nltk\n",
    "from nltk.stem import WordNetLemmatizer\n",
    "from nltk.tokenize import word_tokenize, sent_tokenize\n",
    "from nltk.corpus import stopwords\n",
    "from vaderSentiment.vaderSentiment import SentimentIntensityAnalyzer\n",
    "import gensim \n",
    "import gensim.corpora as corpora\n",
    "from gensim.models.coherencemodel import CoherenceModel\n",
    "from gensim.models import LsiModel, TfidfModel\n",
    "from sklearn.model_selection import train_test_split\n",
    "from sklearn.feature_extraction.text import TfidfVectorizer\n",
    "from sklearn.feature_extraction.text import CountVectorizer, TfidfVectorizer\n",
    "from sklearn.linear_model import LogisticRegression, SGDClassifier \n",
    "from sklearn.metrics import accuracy_score, classification_report"
   ]
  },
  {
   "cell_type": "code",
   "execution_count": 5,
   "metadata": {},
   "outputs": [],
   "source": [
    "# set plot options \n",
    "plt.rcParams['figure.figsize'] = (12,8)\n",
    "default_plot_color = '#007acc'\n",
    "\n",
    "                    "
   ]
  },
  {
   "cell_type": "markdown",
   "metadata": {},
   "source": [
    "#### Reading the `datset.`"
   ]
  },
  {
   "cell_type": "code",
   "execution_count": 6,
   "metadata": {},
   "outputs": [
    {
     "data": {
      "text/html": [
       "<div>\n",
       "<style scoped>\n",
       "    .dataframe tbody tr th:only-of-type {\n",
       "        vertical-align: middle;\n",
       "    }\n",
       "\n",
       "    .dataframe tbody tr th {\n",
       "        vertical-align: top;\n",
       "    }\n",
       "\n",
       "    .dataframe thead th {\n",
       "        text-align: right;\n",
       "    }\n",
       "</style>\n",
       "<table border=\"1\" class=\"dataframe\">\n",
       "  <thead>\n",
       "    <tr style=\"text-align: right;\">\n",
       "      <th></th>\n",
       "      <th>title</th>\n",
       "      <th>text</th>\n",
       "      <th>date</th>\n",
       "      <th>fake_or_factual</th>\n",
       "    </tr>\n",
       "  </thead>\n",
       "  <tbody>\n",
       "    <tr>\n",
       "      <th>0</th>\n",
       "      <td>HOLLYWEIRD LIB SUSAN SARANDON Compares Muslim ...</td>\n",
       "      <td>There are two small problems with your analogy...</td>\n",
       "      <td>Dec 30, 2015</td>\n",
       "      <td>Fake News</td>\n",
       "    </tr>\n",
       "    <tr>\n",
       "      <th>1</th>\n",
       "      <td>Elijah Cummings Called Trump Out To His Face ...</td>\n",
       "      <td>Buried in Trump s bonkers interview with New Y...</td>\n",
       "      <td>April 6, 2017</td>\n",
       "      <td>Fake News</td>\n",
       "    </tr>\n",
       "    <tr>\n",
       "      <th>2</th>\n",
       "      <td>Hillary Clinton Says Half Her Cabinet Will Be...</td>\n",
       "      <td>Women make up over 50 percent of this country,...</td>\n",
       "      <td>April 26, 2016</td>\n",
       "      <td>Fake News</td>\n",
       "    </tr>\n",
       "    <tr>\n",
       "      <th>3</th>\n",
       "      <td>Russian bombing of U.S.-backed forces being di...</td>\n",
       "      <td>WASHINGTON (Reuters) - U.S. Defense Secretary ...</td>\n",
       "      <td>September 18, 2017</td>\n",
       "      <td>Factual News</td>\n",
       "    </tr>\n",
       "  </tbody>\n",
       "</table>\n",
       "</div>"
      ],
      "text/plain": [
       "                                               title  \\\n",
       "0  HOLLYWEIRD LIB SUSAN SARANDON Compares Muslim ...   \n",
       "1   Elijah Cummings Called Trump Out To His Face ...   \n",
       "2   Hillary Clinton Says Half Her Cabinet Will Be...   \n",
       "3  Russian bombing of U.S.-backed forces being di...   \n",
       "\n",
       "                                                text                date  \\\n",
       "0  There are two small problems with your analogy...        Dec 30, 2015   \n",
       "1  Buried in Trump s bonkers interview with New Y...       April 6, 2017   \n",
       "2  Women make up over 50 percent of this country,...      April 26, 2016   \n",
       "3  WASHINGTON (Reuters) - U.S. Defense Secretary ...  September 18, 2017   \n",
       "\n",
       "  fake_or_factual  \n",
       "0       Fake News  \n",
       "1       Fake News  \n",
       "2       Fake News  \n",
       "3    Factual News  "
      ]
     },
     "execution_count": 6,
     "metadata": {},
     "output_type": "execute_result"
    }
   ],
   "source": [
    "df = pd.read_excel(r\"datasets/dataset.xlsx\")\n",
    "df.head(4)\n",
    "\n",
    "# !Note -: `git rm --cached datasets/dataset.xlsx` removing because of large size of the file. \n"
   ]
  },
  {
   "cell_type": "code",
   "execution_count": 7,
   "metadata": {},
   "outputs": [
    {
     "name": "stdout",
     "output_type": "stream",
     "text": [
      "<class 'pandas.core.frame.DataFrame'>\n",
      "RangeIndex: 198 entries, 0 to 197\n",
      "Data columns (total 4 columns):\n",
      " #   Column           Non-Null Count  Dtype \n",
      "---  ------           --------------  ----- \n",
      " 0   title            198 non-null    object\n",
      " 1   text             198 non-null    object\n",
      " 2   date             198 non-null    object\n",
      " 3   fake_or_factual  198 non-null    object\n",
      "dtypes: object(4)\n",
      "memory usage: 6.3+ KB\n"
     ]
    }
   ],
   "source": [
    "df.info()"
   ]
  },
  {
   "cell_type": "code",
   "execution_count": 8,
   "metadata": {},
   "outputs": [
    {
     "data": {
      "text/plain": [
       "Text(0.5, 1.0, 'Data analysis of fake and factual news')"
      ]
     },
     "execution_count": 8,
     "metadata": {},
     "output_type": "execute_result"
    },
    {
     "data": {
      "image/png": "[encoded data removed]",
      "text/plain": [
       "<Figure size 1200x800 with 1 Axes>"
      ]
     },
     "metadata": {},
     "output_type": "display_data"
    }
   ],
   "source": [
    "df['fake_or_factual'].value_counts().plot(kind='bar', color= \"g\")\n",
    "plt.title('Data analysis of fake and factual news')"
   ]
  },
  {
   "cell_type": "markdown",
   "metadata": {},
   "source": [
    "#### Here both the classes are almost same hence this is the perfect data set for data analysis."
   ]
  },
  {
   "cell_type": "markdown",
   "metadata": {},
   "source": [
    "POS TAGGING"
   ]
  },
  {
   "cell_type": "code",
   "execution_count": 9,
   "metadata": {},
   "outputs": [],
   "source": [
    "import spacy\n",
    "nlp = spacy.load('en_core_web_sm')"
   ]
  },
  {
   "cell_type": "code",
   "execution_count": 10,
   "metadata": {},
   "outputs": [],
   "source": [
    "fake_news = df[df['fake_or_factual']=='Fake News']\n",
    "real_news = df[df['fake_or_factual']=='Factual News']"
   ]
  },
  {
   "cell_type": "code",
   "execution_count": 11,
   "metadata": {},
   "outputs": [],
   "source": [
    "# Puting fake news text and the facts text in the nlp pipeline. \n",
    "\n",
    "fake_spacydocs = list(nlp.pipe(fake_news['text']))\n",
    "fact_spacydocs = list(nlp.pipe(real_news['text']))"
   ]
  },
  {
   "cell_type": "code",
   "execution_count": 12,
   "metadata": {},
   "outputs": [],
   "source": [
    "def extract_token_tags(doc:spacy.tokens.doc.Doc):\n",
    "    return [(i.text, i.ent_type_, i.pos_) for i in doc]"
   ]
  },
  {
   "cell_type": "markdown",
   "metadata": {},
   "source": [
    "Start tagging the data set."
   ]
  },
  {
   "cell_type": "code",
   "execution_count": 13,
   "metadata": {},
   "outputs": [],
   "source": [
    "# start with fake data-set.\n",
    "fake_tagsdf = []\n",
    "columns = [\"token\", \"ner_tag\", \"pos_tag\"]"
   ]
  },
  {
   "cell_type": "code",
   "execution_count": 14,
   "metadata": {},
   "outputs": [],
   "source": [
    "for ix, doc in enumerate(fake_spacydocs):\n",
    "    tags = extract_token_tags(doc)\n",
    "    # convert the tags in the data frame.\n",
    "    tags = pd.DataFrame(tags)\n",
    "    tags.columns = columns\n",
    "    fake_tagsdf.append(tags)\n",
    "    "
   ]
  },
  {
   "cell_type": "code",
   "execution_count": 15,
   "metadata": {},
   "outputs": [],
   "source": [
    "fake_tagsdf = pd.concat(fake_tagsdf)"
   ]
  },
  {
   "cell_type": "code",
   "execution_count": 16,
   "metadata": {},
   "outputs": [],
   "source": [
    "fact_tagsdf = []\n",
    "for ix, doc in enumerate(fact_spacydocs):\n",
    "    tags = extract_token_tags(doc)\n",
    "    # convert the tags in the data frame.\n",
    "    tags = pd.DataFrame(tags)\n",
    "    tags.columns = columns\n",
    "    fact_tagsdf.append(tags)\n"
   ]
  },
  {
   "cell_type": "code",
   "execution_count": 17,
   "metadata": {},
   "outputs": [],
   "source": [
    "fact_tagsdf = pd.concat(fact_tagsdf)\n"
   ]
  },
  {
   "cell_type": "markdown",
   "metadata": {},
   "source": [
    "##### 1. Data `tokenization` and `parts-of-speech` tagging."
   ]
  },
  {
   "cell_type": "code",
   "execution_count": 18,
   "metadata": {},
   "outputs": [
    {
     "data": {
      "text/html": [
       "<div>\n",
       "<style scoped>\n",
       "    .dataframe tbody tr th:only-of-type {\n",
       "        vertical-align: middle;\n",
       "    }\n",
       "\n",
       "    .dataframe tbody tr th {\n",
       "        vertical-align: top;\n",
       "    }\n",
       "\n",
       "    .dataframe thead th {\n",
       "        text-align: right;\n",
       "    }\n",
       "</style>\n",
       "<table border=\"1\" class=\"dataframe\">\n",
       "  <thead>\n",
       "    <tr style=\"text-align: right;\">\n",
       "      <th></th>\n",
       "      <th>token</th>\n",
       "      <th>ner_tag</th>\n",
       "      <th>pos_tag</th>\n",
       "    </tr>\n",
       "  </thead>\n",
       "  <tbody>\n",
       "    <tr>\n",
       "      <th>0</th>\n",
       "      <td>There</td>\n",
       "      <td></td>\n",
       "      <td>PRON</td>\n",
       "    </tr>\n",
       "    <tr>\n",
       "      <th>1</th>\n",
       "      <td>are</td>\n",
       "      <td></td>\n",
       "      <td>VERB</td>\n",
       "    </tr>\n",
       "    <tr>\n",
       "      <th>2</th>\n",
       "      <td>two</td>\n",
       "      <td>CARDINAL</td>\n",
       "      <td>NUM</td>\n",
       "    </tr>\n",
       "    <tr>\n",
       "      <th>3</th>\n",
       "      <td>small</td>\n",
       "      <td></td>\n",
       "      <td>ADJ</td>\n",
       "    </tr>\n",
       "    <tr>\n",
       "      <th>4</th>\n",
       "      <td>problems</td>\n",
       "      <td></td>\n",
       "      <td>NOUN</td>\n",
       "    </tr>\n",
       "  </tbody>\n",
       "</table>\n",
       "</div>"
      ],
      "text/plain": [
       "      token   ner_tag pos_tag\n",
       "0     There              PRON\n",
       "1       are              VERB\n",
       "2       two  CARDINAL     NUM\n",
       "3     small               ADJ\n",
       "4  problems              NOUN"
      ]
     },
     "execution_count": 18,
     "metadata": {},
     "output_type": "execute_result"
    }
   ],
   "source": [
    "fake_tagsdf.head()"
   ]
  },
  {
   "cell_type": "code",
   "execution_count": 19,
   "metadata": {},
   "outputs": [
    {
     "data": {
      "text/html": [
       "<div>\n",
       "<style scoped>\n",
       "    .dataframe tbody tr th:only-of-type {\n",
       "        vertical-align: middle;\n",
       "    }\n",
       "\n",
       "    .dataframe tbody tr th {\n",
       "        vertical-align: top;\n",
       "    }\n",
       "\n",
       "    .dataframe thead th {\n",
       "        text-align: right;\n",
       "    }\n",
       "</style>\n",
       "<table border=\"1\" class=\"dataframe\">\n",
       "  <thead>\n",
       "    <tr style=\"text-align: right;\">\n",
       "      <th></th>\n",
       "      <th>token</th>\n",
       "      <th>pos_tag</th>\n",
       "      <th>counts</th>\n",
       "    </tr>\n",
       "  </thead>\n",
       "  <tbody>\n",
       "    <tr>\n",
       "      <th>4013</th>\n",
       "      <td>electronic</td>\n",
       "      <td>ADJ</td>\n",
       "      <td>1</td>\n",
       "    </tr>\n",
       "    <tr>\n",
       "      <th>4207</th>\n",
       "      <td>exposing</td>\n",
       "      <td>VERB</td>\n",
       "      <td>1</td>\n",
       "    </tr>\n",
       "    <tr>\n",
       "      <th>4206</th>\n",
       "      <td>expose</td>\n",
       "      <td>VERB</td>\n",
       "      <td>1</td>\n",
       "    </tr>\n",
       "    <tr>\n",
       "      <th>4204</th>\n",
       "      <td>export</td>\n",
       "      <td>NOUN</td>\n",
       "      <td>1</td>\n",
       "    </tr>\n",
       "    <tr>\n",
       "      <th>4202</th>\n",
       "      <td>explicit</td>\n",
       "      <td>ADJ</td>\n",
       "      <td>1</td>\n",
       "    </tr>\n",
       "    <tr>\n",
       "      <th>4199</th>\n",
       "      <td>explaining</td>\n",
       "      <td>VERB</td>\n",
       "      <td>1</td>\n",
       "    </tr>\n",
       "    <tr>\n",
       "      <th>4194</th>\n",
       "      <td>experience</td>\n",
       "      <td>VERB</td>\n",
       "      <td>1</td>\n",
       "    </tr>\n",
       "    <tr>\n",
       "      <th>4191</th>\n",
       "      <td>expelling</td>\n",
       "      <td>VERB</td>\n",
       "      <td>1</td>\n",
       "    </tr>\n",
       "    <tr>\n",
       "      <th>4190</th>\n",
       "      <td>expecting</td>\n",
       "      <td>VERB</td>\n",
       "      <td>1</td>\n",
       "    </tr>\n",
       "    <tr>\n",
       "      <th>4186</th>\n",
       "      <td>exodus</td>\n",
       "      <td>NOUN</td>\n",
       "      <td>1</td>\n",
       "    </tr>\n",
       "  </tbody>\n",
       "</table>\n",
       "</div>"
      ],
      "text/plain": [
       "           token pos_tag  counts\n",
       "4013  electronic     ADJ       1\n",
       "4207    exposing    VERB       1\n",
       "4206      expose    VERB       1\n",
       "4204      export    NOUN       1\n",
       "4202    explicit     ADJ       1\n",
       "4199  explaining    VERB       1\n",
       "4194  experience    VERB       1\n",
       "4191   expelling    VERB       1\n",
       "4190   expecting    VERB       1\n",
       "4186      exodus    NOUN       1"
      ]
     },
     "execution_count": 19,
     "metadata": {},
     "output_type": "execute_result"
    }
   ],
   "source": [
    "pos_counts_fake = fake_tagsdf.groupby(['token', 'pos_tag']).size().reset_index(name='counts').sort_values(by= 'counts')\n",
    "\n",
    "pos_counts_fake.head(10)\n"
   ]
  },
  {
   "cell_type": "code",
   "execution_count": 20,
   "metadata": {},
   "outputs": [
    {
     "data": {
      "text/html": [
       "<div>\n",
       "<style scoped>\n",
       "    .dataframe tbody tr th:only-of-type {\n",
       "        vertical-align: middle;\n",
       "    }\n",
       "\n",
       "    .dataframe tbody tr th {\n",
       "        vertical-align: top;\n",
       "    }\n",
       "\n",
       "    .dataframe thead th {\n",
       "        text-align: right;\n",
       "    }\n",
       "</style>\n",
       "<table border=\"1\" class=\"dataframe\">\n",
       "  <thead>\n",
       "    <tr style=\"text-align: right;\">\n",
       "      <th></th>\n",
       "      <th>token</th>\n",
       "      <th>pos_tag</th>\n",
       "      <th>counts</th>\n",
       "    </tr>\n",
       "  </thead>\n",
       "  <tbody>\n",
       "    <tr>\n",
       "      <th>6651</th>\n",
       "      <td>…</td>\n",
       "      <td>PUNCT</td>\n",
       "      <td>1</td>\n",
       "    </tr>\n",
       "    <tr>\n",
       "      <th>4898</th>\n",
       "      <td>patrol</td>\n",
       "      <td>NOUN</td>\n",
       "      <td>1</td>\n",
       "    </tr>\n",
       "    <tr>\n",
       "      <th>4897</th>\n",
       "      <td>patriarch</td>\n",
       "      <td>NOUN</td>\n",
       "      <td>1</td>\n",
       "    </tr>\n",
       "    <tr>\n",
       "      <th>4896</th>\n",
       "      <td>path</td>\n",
       "      <td>NOUN</td>\n",
       "      <td>1</td>\n",
       "    </tr>\n",
       "    <tr>\n",
       "      <th>4895</th>\n",
       "      <td>patent</td>\n",
       "      <td>NOUN</td>\n",
       "      <td>1</td>\n",
       "    </tr>\n",
       "    <tr>\n",
       "      <th>4892</th>\n",
       "      <td>passport</td>\n",
       "      <td>NOUN</td>\n",
       "      <td>1</td>\n",
       "    </tr>\n",
       "    <tr>\n",
       "      <th>2522</th>\n",
       "      <td>cases</td>\n",
       "      <td>NOUN</td>\n",
       "      <td>1</td>\n",
       "    </tr>\n",
       "    <tr>\n",
       "      <th>4891</th>\n",
       "      <td>passing</td>\n",
       "      <td>VERB</td>\n",
       "      <td>1</td>\n",
       "    </tr>\n",
       "    <tr>\n",
       "      <th>2524</th>\n",
       "      <td>cash</td>\n",
       "      <td>VERB</td>\n",
       "      <td>1</td>\n",
       "    </tr>\n",
       "    <tr>\n",
       "      <th>4887</th>\n",
       "      <td>party</td>\n",
       "      <td>PROPN</td>\n",
       "      <td>1</td>\n",
       "    </tr>\n",
       "  </tbody>\n",
       "</table>\n",
       "</div>"
      ],
      "text/plain": [
       "          token pos_tag  counts\n",
       "6651          …   PUNCT       1\n",
       "4898     patrol    NOUN       1\n",
       "4897  patriarch    NOUN       1\n",
       "4896       path    NOUN       1\n",
       "4895     patent    NOUN       1\n",
       "4892   passport    NOUN       1\n",
       "2522      cases    NOUN       1\n",
       "4891    passing    VERB       1\n",
       "2524       cash    VERB       1\n",
       "4887      party   PROPN       1"
      ]
     },
     "execution_count": 20,
     "metadata": {},
     "output_type": "execute_result"
    }
   ],
   "source": [
    "pos_counts_fact = fact_tagsdf.groupby(['token', 'pos_tag']).size().reset_index(name='counts').sort_values(by= 'counts')\n",
    "\n",
    "pos_counts_fact.head(10)\n"
   ]
  },
  {
   "cell_type": "code",
   "execution_count": 21,
   "metadata": {},
   "outputs": [
    {
     "data": {
      "text/plain": [
       "pos_tag\n",
       "NOUN     2593\n",
       "VERB     1813\n",
       "PROPN    1669\n",
       "ADJ       880\n",
       "ADV       412\n",
       "NUM       223\n",
       "PRON       97\n",
       "ADP        89\n",
       "AUX        64\n",
       "SCONJ      51\n",
       "Name: token, dtype: int64"
      ]
     },
     "execution_count": 21,
     "metadata": {},
     "output_type": "execute_result"
    }
   ],
   "source": [
    "pos_counts_fake.groupby('pos_tag')['token'].count().sort_values(ascending=False).head(10)"
   ]
  },
  {
   "cell_type": "code",
   "execution_count": 22,
   "metadata": {},
   "outputs": [
    {
     "data": {
      "text/plain": [
       "pos_tag\n",
       "NOUN     2180\n",
       "VERB     1540\n",
       "PROPN    1378\n",
       "ADJ       748\n",
       "ADV       263\n",
       "NUM       204\n",
       "PRON       79\n",
       "ADP        70\n",
       "AUX        43\n",
       "SCONJ      42\n",
       "Name: token, dtype: int64"
      ]
     },
     "execution_count": 22,
     "metadata": {},
     "output_type": "execute_result"
    }
   ],
   "source": [
    "pos_counts_fact.groupby('pos_tag')['token'].count().sort_values(ascending=False).head(10)"
   ]
  },
  {
   "cell_type": "markdown",
   "metadata": {},
   "source": [
    "Top 15 nouns -:\n"
   ]
  },
  {
   "cell_type": "code",
   "execution_count": 23,
   "metadata": {},
   "outputs": [
    {
     "data": {
      "text/html": [
       "<div>\n",
       "<style scoped>\n",
       "    .dataframe tbody tr th:only-of-type {\n",
       "        vertical-align: middle;\n",
       "    }\n",
       "\n",
       "    .dataframe tbody tr th {\n",
       "        vertical-align: top;\n",
       "    }\n",
       "\n",
       "    .dataframe thead th {\n",
       "        text-align: right;\n",
       "    }\n",
       "</style>\n",
       "<table border=\"1\" class=\"dataframe\">\n",
       "  <thead>\n",
       "    <tr style=\"text-align: right;\">\n",
       "      <th></th>\n",
       "      <th>token</th>\n",
       "      <th>pos_tag</th>\n",
       "      <th>counts</th>\n",
       "    </tr>\n",
       "  </thead>\n",
       "  <tbody>\n",
       "    <tr>\n",
       "      <th>4204</th>\n",
       "      <td>export</td>\n",
       "      <td>NOUN</td>\n",
       "      <td>1</td>\n",
       "    </tr>\n",
       "    <tr>\n",
       "      <th>4186</th>\n",
       "      <td>exodus</td>\n",
       "      <td>NOUN</td>\n",
       "      <td>1</td>\n",
       "    </tr>\n",
       "    <tr>\n",
       "      <th>4185</th>\n",
       "      <td>exit</td>\n",
       "      <td>NOUN</td>\n",
       "      <td>1</td>\n",
       "    </tr>\n",
       "    <tr>\n",
       "      <th>4176</th>\n",
       "      <td>executives</td>\n",
       "      <td>NOUN</td>\n",
       "      <td>1</td>\n",
       "    </tr>\n",
       "    <tr>\n",
       "      <th>4169</th>\n",
       "      <td>excuses</td>\n",
       "      <td>NOUN</td>\n",
       "      <td>1</td>\n",
       "    </tr>\n",
       "    <tr>\n",
       "      <th>4239</th>\n",
       "      <td>factions</td>\n",
       "      <td>NOUN</td>\n",
       "      <td>1</td>\n",
       "    </tr>\n",
       "    <tr>\n",
       "      <th>4236</th>\n",
       "      <td>facility</td>\n",
       "      <td>NOUN</td>\n",
       "      <td>1</td>\n",
       "    </tr>\n",
       "    <tr>\n",
       "      <th>4226</th>\n",
       "      <td>fabric</td>\n",
       "      <td>NOUN</td>\n",
       "      <td>1</td>\n",
       "    </tr>\n",
       "    <tr>\n",
       "      <th>4223</th>\n",
       "      <td>eye</td>\n",
       "      <td>NOUN</td>\n",
       "      <td>1</td>\n",
       "    </tr>\n",
       "    <tr>\n",
       "      <th>4222</th>\n",
       "      <td>extremism</td>\n",
       "      <td>NOUN</td>\n",
       "      <td>1</td>\n",
       "    </tr>\n",
       "    <tr>\n",
       "      <th>4215</th>\n",
       "      <td>extension</td>\n",
       "      <td>NOUN</td>\n",
       "      <td>1</td>\n",
       "    </tr>\n",
       "    <tr>\n",
       "      <th>4125</th>\n",
       "      <td>estate</td>\n",
       "      <td>NOUN</td>\n",
       "      <td>1</td>\n",
       "    </tr>\n",
       "    <tr>\n",
       "      <th>4121</th>\n",
       "      <td>essay</td>\n",
       "      <td>NOUN</td>\n",
       "      <td>1</td>\n",
       "    </tr>\n",
       "    <tr>\n",
       "      <th>4120</th>\n",
       "      <td>espionage</td>\n",
       "      <td>NOUN</td>\n",
       "      <td>1</td>\n",
       "    </tr>\n",
       "    <tr>\n",
       "      <th>4113</th>\n",
       "      <td>era</td>\n",
       "      <td>NOUN</td>\n",
       "      <td>1</td>\n",
       "    </tr>\n",
       "  </tbody>\n",
       "</table>\n",
       "</div>"
      ],
      "text/plain": [
       "           token pos_tag  counts\n",
       "4204      export    NOUN       1\n",
       "4186      exodus    NOUN       1\n",
       "4185        exit    NOUN       1\n",
       "4176  executives    NOUN       1\n",
       "4169     excuses    NOUN       1\n",
       "4239    factions    NOUN       1\n",
       "4236    facility    NOUN       1\n",
       "4226      fabric    NOUN       1\n",
       "4223         eye    NOUN       1\n",
       "4222   extremism    NOUN       1\n",
       "4215   extension    NOUN       1\n",
       "4125      estate    NOUN       1\n",
       "4121       essay    NOUN       1\n",
       "4120   espionage    NOUN       1\n",
       "4113         era    NOUN       1"
      ]
     },
     "execution_count": 23,
     "metadata": {},
     "output_type": "execute_result"
    }
   ],
   "source": [
    "pos_counts_fake[pos_counts_fake.pos_tag == 'NOUN'][:15]"
   ]
  },
  {
   "cell_type": "code",
   "execution_count": 24,
   "metadata": {},
   "outputs": [
    {
     "data": {
      "text/html": [
       "<div>\n",
       "<style scoped>\n",
       "    .dataframe tbody tr th:only-of-type {\n",
       "        vertical-align: middle;\n",
       "    }\n",
       "\n",
       "    .dataframe tbody tr th {\n",
       "        vertical-align: top;\n",
       "    }\n",
       "\n",
       "    .dataframe thead th {\n",
       "        text-align: right;\n",
       "    }\n",
       "</style>\n",
       "<table border=\"1\" class=\"dataframe\">\n",
       "  <thead>\n",
       "    <tr style=\"text-align: right;\">\n",
       "      <th></th>\n",
       "      <th>token</th>\n",
       "      <th>pos_tag</th>\n",
       "      <th>counts</th>\n",
       "    </tr>\n",
       "  </thead>\n",
       "  <tbody>\n",
       "    <tr>\n",
       "      <th>4898</th>\n",
       "      <td>patrol</td>\n",
       "      <td>NOUN</td>\n",
       "      <td>1</td>\n",
       "    </tr>\n",
       "    <tr>\n",
       "      <th>4897</th>\n",
       "      <td>patriarch</td>\n",
       "      <td>NOUN</td>\n",
       "      <td>1</td>\n",
       "    </tr>\n",
       "    <tr>\n",
       "      <th>4896</th>\n",
       "      <td>path</td>\n",
       "      <td>NOUN</td>\n",
       "      <td>1</td>\n",
       "    </tr>\n",
       "    <tr>\n",
       "      <th>4895</th>\n",
       "      <td>patent</td>\n",
       "      <td>NOUN</td>\n",
       "      <td>1</td>\n",
       "    </tr>\n",
       "    <tr>\n",
       "      <th>4892</th>\n",
       "      <td>passport</td>\n",
       "      <td>NOUN</td>\n",
       "      <td>1</td>\n",
       "    </tr>\n",
       "    <tr>\n",
       "      <th>2522</th>\n",
       "      <td>cases</td>\n",
       "      <td>NOUN</td>\n",
       "      <td>1</td>\n",
       "    </tr>\n",
       "    <tr>\n",
       "      <th>2526</th>\n",
       "      <td>casualties</td>\n",
       "      <td>NOUN</td>\n",
       "      <td>1</td>\n",
       "    </tr>\n",
       "    <tr>\n",
       "      <th>2527</th>\n",
       "      <td>casualty</td>\n",
       "      <td>NOUN</td>\n",
       "      <td>1</td>\n",
       "    </tr>\n",
       "    <tr>\n",
       "      <th>2532</th>\n",
       "      <td>cause</td>\n",
       "      <td>NOUN</td>\n",
       "      <td>1</td>\n",
       "    </tr>\n",
       "    <tr>\n",
       "      <th>4883</th>\n",
       "      <td>partner</td>\n",
       "      <td>NOUN</td>\n",
       "      <td>1</td>\n",
       "    </tr>\n",
       "    <tr>\n",
       "      <th>2535</th>\n",
       "      <td>causes</td>\n",
       "      <td>NOUN</td>\n",
       "      <td>1</td>\n",
       "    </tr>\n",
       "    <tr>\n",
       "      <th>2537</th>\n",
       "      <td>caves</td>\n",
       "      <td>NOUN</td>\n",
       "      <td>1</td>\n",
       "    </tr>\n",
       "    <tr>\n",
       "      <th>2538</th>\n",
       "      <td>ceasefire</td>\n",
       "      <td>NOUN</td>\n",
       "      <td>1</td>\n",
       "    </tr>\n",
       "    <tr>\n",
       "      <th>4878</th>\n",
       "      <td>participation</td>\n",
       "      <td>NOUN</td>\n",
       "      <td>1</td>\n",
       "    </tr>\n",
       "    <tr>\n",
       "      <th>4902</th>\n",
       "      <td>payment</td>\n",
       "      <td>NOUN</td>\n",
       "      <td>1</td>\n",
       "    </tr>\n",
       "  </tbody>\n",
       "</table>\n",
       "</div>"
      ],
      "text/plain": [
       "              token pos_tag  counts\n",
       "4898         patrol    NOUN       1\n",
       "4897      patriarch    NOUN       1\n",
       "4896           path    NOUN       1\n",
       "4895         patent    NOUN       1\n",
       "4892       passport    NOUN       1\n",
       "2522          cases    NOUN       1\n",
       "2526     casualties    NOUN       1\n",
       "2527       casualty    NOUN       1\n",
       "2532          cause    NOUN       1\n",
       "4883        partner    NOUN       1\n",
       "2535         causes    NOUN       1\n",
       "2537          caves    NOUN       1\n",
       "2538      ceasefire    NOUN       1\n",
       "4878  participation    NOUN       1\n",
       "4902        payment    NOUN       1"
      ]
     },
     "execution_count": 24,
     "metadata": {},
     "output_type": "execute_result"
    }
   ],
   "source": [
    "pos_counts_fact[pos_counts_fact.pos_tag == 'NOUN'][:15]"
   ]
  },
  {
   "cell_type": "markdown",
   "metadata": {},
   "source": [
    "##### 2. Extracting `named entities` between two groups. It is better to do it before any text pre processing & cleaning of the data.\n"
   ]
  },
  {
   "cell_type": "code",
   "execution_count": 25,
   "metadata": {},
   "outputs": [],
   "source": [
    "top_entities_fake = fake_tagsdf[fake_tagsdf['ner_tag']!= \"\"].groupby(['token', 'ner_tag']).size().reset_index(name = \"counts\").sort_values(by = 'counts', ascending = False)"
   ]
  },
  {
   "cell_type": "code",
   "execution_count": 26,
   "metadata": {},
   "outputs": [],
   "source": [
    "top_entities_fact = fact_tagsdf[fact_tagsdf['ner_tag']!= \"\"].groupby(['token', 'ner_tag']).size().reset_index(name = \"counts\").sort_values(by = 'counts', ascending = False)"
   ]
  },
  {
   "cell_type": "code",
   "execution_count": 27,
   "metadata": {},
   "outputs": [],
   "source": [
    "ner_palette = {\n",
    "    'ORG': sns.color_palette(\"Set2\").as_hex()[0],\n",
    "    'GPE': sns.color_palette(\"Set2\").as_hex()[1],\n",
    "    'NORP': sns.color_palette(\"Set2\").as_hex()[2],\n",
    "    'DATE': sns.color_palette(\"Set2\").as_hex()[3],\n",
    "    'PERSON': sns.color_palette(\"Set2\").as_hex()[4],\n",
    "    'CARDINAL': sns.color_palette(\"Set2\").as_hex()[5],\n",
    "    'PERCENT': sns.color_palette(\"Set2\").as_hex()[6]\n",
    "}"
   ]
  },
  {
   "cell_type": "markdown",
   "metadata": {},
   "source": [
    "[SNS Tutorials](https://www.youtube.com/watch?v=kjkvfsrDuvAlist=PL4GjoPPG4VqOAwSNw2I-PXUcjw1frHmW2)"
   ]
  },
  {
   "cell_type": "code",
   "execution_count": 28,
   "metadata": {},
   "outputs": [
    {
     "data": {
      "text/plain": [
       "[Text(0.5, 1.0, 'Most Common Named Entities in Fake News')]"
      ]
     },
     "execution_count": 28,
     "metadata": {},
     "output_type": "execute_result"
    },
    {
     "data": {
      "image/png": "[encoded data removed]",
      "text/plain": [
       "<Figure size 1200x800 with 1 Axes>"
      ]
     },
     "metadata": {},
     "output_type": "display_data"
    }
   ],
   "source": [
    "sns.barplot(\n",
    "    x = 'counts',\n",
    "    y = 'token',\n",
    "    hue = 'ner_tag',\n",
    "    palette = ner_palette,\n",
    "    data = top_entities_fake[:10],\n",
    "    orient = 'h',\n",
    "    dodge = False\n",
    ").set(title =\"Most Common Named Entities in Fake News\")"
   ]
  },
  {
   "cell_type": "code",
   "execution_count": 29,
   "metadata": {},
   "outputs": [
    {
     "data": {
      "text/plain": [
       "[Text(0.5, 1.0, 'Most Common Named Entities in Fact News')]"
      ]
     },
     "execution_count": 29,
     "metadata": {},
     "output_type": "execute_result"
    },
    {
     "data": {
      "image/png": "[encoded data removed]",
      "text/plain": [
       "<Figure size 1200x800 with 1 Axes>"
      ]
     },
     "metadata": {},
     "output_type": "display_data"
    }
   ],
   "source": [
    "sns.barplot(\n",
    "    x = 'counts',\n",
    "    y = 'token',\n",
    "    hue = 'ner_tag',\n",
    "    palette = ner_palette,\n",
    "    data = top_entities_fact[:10],\n",
    "    orient = 'h',\n",
    "    dodge = False\n",
    ").set(title =\"Most Common Named Entities in Fact News\")"
   ]
  },
  {
   "cell_type": "markdown",
   "metadata": {},
   "source": [
    "### Text `pre-processing` with some more `advance` analysis."
   ]
  },
  {
   "cell_type": "code",
   "execution_count": 30,
   "metadata": {},
   "outputs": [
    {
     "data": {
      "text/html": [
       "<div>\n",
       "<style scoped>\n",
       "    .dataframe tbody tr th:only-of-type {\n",
       "        vertical-align: middle;\n",
       "    }\n",
       "\n",
       "    .dataframe tbody tr th {\n",
       "        vertical-align: top;\n",
       "    }\n",
       "\n",
       "    .dataframe thead th {\n",
       "        text-align: right;\n",
       "    }\n",
       "</style>\n",
       "<table border=\"1\" class=\"dataframe\">\n",
       "  <thead>\n",
       "    <tr style=\"text-align: right;\">\n",
       "      <th></th>\n",
       "      <th>title</th>\n",
       "      <th>text</th>\n",
       "      <th>date</th>\n",
       "      <th>fake_or_factual</th>\n",
       "    </tr>\n",
       "  </thead>\n",
       "  <tbody>\n",
       "    <tr>\n",
       "      <th>0</th>\n",
       "      <td>HOLLYWEIRD LIB SUSAN SARANDON Compares Muslim ...</td>\n",
       "      <td>There are two small problems with your analogy...</td>\n",
       "      <td>Dec 30, 2015</td>\n",
       "      <td>Fake News</td>\n",
       "    </tr>\n",
       "    <tr>\n",
       "      <th>1</th>\n",
       "      <td>Elijah Cummings Called Trump Out To His Face ...</td>\n",
       "      <td>Buried in Trump s bonkers interview with New Y...</td>\n",
       "      <td>April 6, 2017</td>\n",
       "      <td>Fake News</td>\n",
       "    </tr>\n",
       "    <tr>\n",
       "      <th>2</th>\n",
       "      <td>Hillary Clinton Says Half Her Cabinet Will Be...</td>\n",
       "      <td>Women make up over 50 percent of this country,...</td>\n",
       "      <td>April 26, 2016</td>\n",
       "      <td>Fake News</td>\n",
       "    </tr>\n",
       "    <tr>\n",
       "      <th>3</th>\n",
       "      <td>Russian bombing of U.S.-backed forces being di...</td>\n",
       "      <td>WASHINGTON (Reuters) - U.S. Defense Secretary ...</td>\n",
       "      <td>September 18, 2017</td>\n",
       "      <td>Factual News</td>\n",
       "    </tr>\n",
       "    <tr>\n",
       "      <th>4</th>\n",
       "      <td>Britain says window to restore Northern Irelan...</td>\n",
       "      <td>BELFAST (Reuters) - Northern Ireland s politic...</td>\n",
       "      <td>September 4, 2017</td>\n",
       "      <td>Factual News</td>\n",
       "    </tr>\n",
       "  </tbody>\n",
       "</table>\n",
       "</div>"
      ],
      "text/plain": [
       "                                               title  \\\n",
       "0  HOLLYWEIRD LIB SUSAN SARANDON Compares Muslim ...   \n",
       "1   Elijah Cummings Called Trump Out To His Face ...   \n",
       "2   Hillary Clinton Says Half Her Cabinet Will Be...   \n",
       "3  Russian bombing of U.S.-backed forces being di...   \n",
       "4  Britain says window to restore Northern Irelan...   \n",
       "\n",
       "                                                text                date  \\\n",
       "0  There are two small problems with your analogy...        Dec 30, 2015   \n",
       "1  Buried in Trump s bonkers interview with New Y...       April 6, 2017   \n",
       "2  Women make up over 50 percent of this country,...      April 26, 2016   \n",
       "3  WASHINGTON (Reuters) - U.S. Defense Secretary ...  September 18, 2017   \n",
       "4  BELFAST (Reuters) - Northern Ireland s politic...   September 4, 2017   \n",
       "\n",
       "  fake_or_factual  \n",
       "0       Fake News  \n",
       "1       Fake News  \n",
       "2       Fake News  \n",
       "3    Factual News  \n",
       "4    Factual News  "
      ]
     },
     "execution_count": 30,
     "metadata": {},
     "output_type": "execute_result"
    }
   ],
   "source": [
    "df.head()\n"
   ]
  },
  {
   "cell_type": "markdown",
   "metadata": {},
   "source": [
    "#### step _1. `Reguler expression` below will look for the first hyphon and then remove the hyphon and everything before it. \n",
    "- [Reg-ex Tutorial-1](https://www.youtube.com/watch?v=sa-TUpSx1JA)\n",
    "- [Reg-ex Tutorial-2](https://www.youtube.com/playlist?list=PL4cUxeGkcC9g6m_6Sld9Q4jzqdqHd2HiD)\n"
   ]
  },
  {
   "cell_type": "code",
   "execution_count": 31,
   "metadata": {},
   "outputs": [],
   "source": [
    "# re = (lambda x :re.sub((r\"^[^-]*-\\s\", \" \",x[\"text\"]), axis = 1 ) )"
   ]
  },
  {
   "cell_type": "code",
   "execution_count": 32,
   "metadata": {},
   "outputs": [
    {
     "data": {
      "text/html": [
       "<div>\n",
       "<style scoped>\n",
       "    .dataframe tbody tr th:only-of-type {\n",
       "        vertical-align: middle;\n",
       "    }\n",
       "\n",
       "    .dataframe tbody tr th {\n",
       "        vertical-align: top;\n",
       "    }\n",
       "\n",
       "    .dataframe thead th {\n",
       "        text-align: right;\n",
       "    }\n",
       "</style>\n",
       "<table border=\"1\" class=\"dataframe\">\n",
       "  <thead>\n",
       "    <tr style=\"text-align: right;\">\n",
       "      <th></th>\n",
       "      <th>title</th>\n",
       "      <th>text</th>\n",
       "      <th>date</th>\n",
       "      <th>fake_or_factual</th>\n",
       "    </tr>\n",
       "  </thead>\n",
       "  <tbody>\n",
       "    <tr>\n",
       "      <th>0</th>\n",
       "      <td>HOLLYWEIRD LIB SUSAN SARANDON Compares Muslim ...</td>\n",
       "      <td>There are two small problems with your analogy...</td>\n",
       "      <td>Dec 30, 2015</td>\n",
       "      <td>Fake News</td>\n",
       "    </tr>\n",
       "    <tr>\n",
       "      <th>1</th>\n",
       "      <td>Elijah Cummings Called Trump Out To His Face ...</td>\n",
       "      <td>Buried in Trump s bonkers interview with New Y...</td>\n",
       "      <td>April 6, 2017</td>\n",
       "      <td>Fake News</td>\n",
       "    </tr>\n",
       "    <tr>\n",
       "      <th>2</th>\n",
       "      <td>Hillary Clinton Says Half Her Cabinet Will Be...</td>\n",
       "      <td>Women make up over 50 percent of this country,...</td>\n",
       "      <td>April 26, 2016</td>\n",
       "      <td>Fake News</td>\n",
       "    </tr>\n",
       "    <tr>\n",
       "      <th>3</th>\n",
       "      <td>Russian bombing of U.S.-backed forces being di...</td>\n",
       "      <td>WASHINGTON (Reuters) - U.S. Defense Secretary ...</td>\n",
       "      <td>September 18, 2017</td>\n",
       "      <td>Factual News</td>\n",
       "    </tr>\n",
       "    <tr>\n",
       "      <th>4</th>\n",
       "      <td>Britain says window to restore Northern Irelan...</td>\n",
       "      <td>BELFAST (Reuters) - Northern Ireland s politic...</td>\n",
       "      <td>September 4, 2017</td>\n",
       "      <td>Factual News</td>\n",
       "    </tr>\n",
       "  </tbody>\n",
       "</table>\n",
       "</div>"
      ],
      "text/plain": [
       "                                               title  \\\n",
       "0  HOLLYWEIRD LIB SUSAN SARANDON Compares Muslim ...   \n",
       "1   Elijah Cummings Called Trump Out To His Face ...   \n",
       "2   Hillary Clinton Says Half Her Cabinet Will Be...   \n",
       "3  Russian bombing of U.S.-backed forces being di...   \n",
       "4  Britain says window to restore Northern Irelan...   \n",
       "\n",
       "                                                text                date  \\\n",
       "0  There are two small problems with your analogy...        Dec 30, 2015   \n",
       "1  Buried in Trump s bonkers interview with New Y...       April 6, 2017   \n",
       "2  Women make up over 50 percent of this country,...      April 26, 2016   \n",
       "3  WASHINGTON (Reuters) - U.S. Defense Secretary ...  September 18, 2017   \n",
       "4  BELFAST (Reuters) - Northern Ireland s politic...   September 4, 2017   \n",
       "\n",
       "  fake_or_factual  \n",
       "0       Fake News  \n",
       "1       Fake News  \n",
       "2       Fake News  \n",
       "3    Factual News  \n",
       "4    Factual News  "
      ]
     },
     "execution_count": 32,
     "metadata": {},
     "output_type": "execute_result"
    }
   ],
   "source": [
    "df.head()"
   ]
  },
  {
   "cell_type": "markdown",
   "metadata": {},
   "source": [
    "Removing data before hyphen as well as hyphen."
   ]
  },
  {
   "cell_type": "code",
   "execution_count": 33,
   "metadata": {},
   "outputs": [],
   "source": [
    "import re as regex\n",
    "df[\"text_clean\"] = df.apply(lambda x: regex.sub(r\"^[^-]*-\\s\", \"\", x['text']), axis =1 )"
   ]
  },
  {
   "cell_type": "code",
   "execution_count": 34,
   "metadata": {},
   "outputs": [
    {
     "data": {
      "text/html": [
       "<div>\n",
       "<style scoped>\n",
       "    .dataframe tbody tr th:only-of-type {\n",
       "        vertical-align: middle;\n",
       "    }\n",
       "\n",
       "    .dataframe tbody tr th {\n",
       "        vertical-align: top;\n",
       "    }\n",
       "\n",
       "    .dataframe thead th {\n",
       "        text-align: right;\n",
       "    }\n",
       "</style>\n",
       "<table border=\"1\" class=\"dataframe\">\n",
       "  <thead>\n",
       "    <tr style=\"text-align: right;\">\n",
       "      <th></th>\n",
       "      <th>title</th>\n",
       "      <th>text</th>\n",
       "      <th>date</th>\n",
       "      <th>fake_or_factual</th>\n",
       "      <th>text_clean</th>\n",
       "    </tr>\n",
       "  </thead>\n",
       "  <tbody>\n",
       "    <tr>\n",
       "      <th>0</th>\n",
       "      <td>HOLLYWEIRD LIB SUSAN SARANDON Compares Muslim ...</td>\n",
       "      <td>There are two small problems with your analogy...</td>\n",
       "      <td>Dec 30, 2015</td>\n",
       "      <td>Fake News</td>\n",
       "      <td>There are two small problems with your analogy...</td>\n",
       "    </tr>\n",
       "    <tr>\n",
       "      <th>1</th>\n",
       "      <td>Elijah Cummings Called Trump Out To His Face ...</td>\n",
       "      <td>Buried in Trump s bonkers interview with New Y...</td>\n",
       "      <td>April 6, 2017</td>\n",
       "      <td>Fake News</td>\n",
       "      <td>Buried in Trump s bonkers interview with New Y...</td>\n",
       "    </tr>\n",
       "    <tr>\n",
       "      <th>2</th>\n",
       "      <td>Hillary Clinton Says Half Her Cabinet Will Be...</td>\n",
       "      <td>Women make up over 50 percent of this country,...</td>\n",
       "      <td>April 26, 2016</td>\n",
       "      <td>Fake News</td>\n",
       "      <td>Women make up over 50 percent of this country,...</td>\n",
       "    </tr>\n",
       "    <tr>\n",
       "      <th>3</th>\n",
       "      <td>Russian bombing of U.S.-backed forces being di...</td>\n",
       "      <td>WASHINGTON (Reuters) - U.S. Defense Secretary ...</td>\n",
       "      <td>September 18, 2017</td>\n",
       "      <td>Factual News</td>\n",
       "      <td>U.S. Defense Secretary Jim Mattis said on Mond...</td>\n",
       "    </tr>\n",
       "    <tr>\n",
       "      <th>4</th>\n",
       "      <td>Britain says window to restore Northern Irelan...</td>\n",
       "      <td>BELFAST (Reuters) - Northern Ireland s politic...</td>\n",
       "      <td>September 4, 2017</td>\n",
       "      <td>Factual News</td>\n",
       "      <td>Northern Ireland s political parties are rapid...</td>\n",
       "    </tr>\n",
       "  </tbody>\n",
       "</table>\n",
       "</div>"
      ],
      "text/plain": [
       "                                               title  \\\n",
       "0  HOLLYWEIRD LIB SUSAN SARANDON Compares Muslim ...   \n",
       "1   Elijah Cummings Called Trump Out To His Face ...   \n",
       "2   Hillary Clinton Says Half Her Cabinet Will Be...   \n",
       "3  Russian bombing of U.S.-backed forces being di...   \n",
       "4  Britain says window to restore Northern Irelan...   \n",
       "\n",
       "                                                text                date  \\\n",
       "0  There are two small problems with your analogy...        Dec 30, 2015   \n",
       "1  Buried in Trump s bonkers interview with New Y...       April 6, 2017   \n",
       "2  Women make up over 50 percent of this country,...      April 26, 2016   \n",
       "3  WASHINGTON (Reuters) - U.S. Defense Secretary ...  September 18, 2017   \n",
       "4  BELFAST (Reuters) - Northern Ireland s politic...   September 4, 2017   \n",
       "\n",
       "  fake_or_factual                                         text_clean  \n",
       "0       Fake News  There are two small problems with your analogy...  \n",
       "1       Fake News  Buried in Trump s bonkers interview with New Y...  \n",
       "2       Fake News  Women make up over 50 percent of this country,...  \n",
       "3    Factual News  U.S. Defense Secretary Jim Mattis said on Mond...  \n",
       "4    Factual News  Northern Ireland s political parties are rapid...  "
      ]
     },
     "execution_count": 34,
     "metadata": {},
     "output_type": "execute_result"
    }
   ],
   "source": [
    "df.head()"
   ]
  },
  {
   "cell_type": "markdown",
   "metadata": {},
   "source": [
    "### Step2. Converting it to `lower case`"
   ]
  },
  {
   "cell_type": "code",
   "execution_count": 35,
   "metadata": {},
   "outputs": [],
   "source": [
    "# lower case column.\n",
    "df['text_clean'] = df['text_clean'].str.lower()\n",
    "# removing the punctuation. Look something that is not a word or space and removing it.\n"
   ]
  },
  {
   "cell_type": "code",
   "execution_count": 36,
   "metadata": {},
   "outputs": [
    {
     "name": "stdout",
     "output_type": "stream",
     "text": [
      "Index(['title', 'text', 'date', 'fake_or_factual', 'text_clean'], dtype='object')\n"
     ]
    }
   ],
   "source": [
    "print(df.columns)"
   ]
  },
  {
   "cell_type": "code",
   "execution_count": 37,
   "metadata": {},
   "outputs": [],
   "source": [
    "\n",
    "df['text_clean'] = df.apply(lambda x:regex.sub(r\"([^\\w\\s])\", \" \", x['text_clean']), axis = 1) # regex.sub -: reguler expression substitution."
   ]
  },
  {
   "cell_type": "code",
   "execution_count": 38,
   "metadata": {},
   "outputs": [
    {
     "data": {
      "text/html": [
       "<div>\n",
       "<style scoped>\n",
       "    .dataframe tbody tr th:only-of-type {\n",
       "        vertical-align: middle;\n",
       "    }\n",
       "\n",
       "    .dataframe tbody tr th {\n",
       "        vertical-align: top;\n",
       "    }\n",
       "\n",
       "    .dataframe thead th {\n",
       "        text-align: right;\n",
       "    }\n",
       "</style>\n",
       "<table border=\"1\" class=\"dataframe\">\n",
       "  <thead>\n",
       "    <tr style=\"text-align: right;\">\n",
       "      <th></th>\n",
       "      <th>title</th>\n",
       "      <th>text</th>\n",
       "      <th>date</th>\n",
       "      <th>fake_or_factual</th>\n",
       "      <th>text_clean</th>\n",
       "    </tr>\n",
       "  </thead>\n",
       "  <tbody>\n",
       "    <tr>\n",
       "      <th>0</th>\n",
       "      <td>HOLLYWEIRD LIB SUSAN SARANDON Compares Muslim ...</td>\n",
       "      <td>There are two small problems with your analogy...</td>\n",
       "      <td>Dec 30, 2015</td>\n",
       "      <td>Fake News</td>\n",
       "      <td>there are two small problems with your analogy...</td>\n",
       "    </tr>\n",
       "    <tr>\n",
       "      <th>1</th>\n",
       "      <td>Elijah Cummings Called Trump Out To His Face ...</td>\n",
       "      <td>Buried in Trump s bonkers interview with New Y...</td>\n",
       "      <td>April 6, 2017</td>\n",
       "      <td>Fake News</td>\n",
       "      <td>buried in trump s bonkers interview with new y...</td>\n",
       "    </tr>\n",
       "    <tr>\n",
       "      <th>2</th>\n",
       "      <td>Hillary Clinton Says Half Her Cabinet Will Be...</td>\n",
       "      <td>Women make up over 50 percent of this country,...</td>\n",
       "      <td>April 26, 2016</td>\n",
       "      <td>Fake News</td>\n",
       "      <td>women make up over 50 percent of this country ...</td>\n",
       "    </tr>\n",
       "    <tr>\n",
       "      <th>3</th>\n",
       "      <td>Russian bombing of U.S.-backed forces being di...</td>\n",
       "      <td>WASHINGTON (Reuters) - U.S. Defense Secretary ...</td>\n",
       "      <td>September 18, 2017</td>\n",
       "      <td>Factual News</td>\n",
       "      <td>u s  defense secretary jim mattis said on mond...</td>\n",
       "    </tr>\n",
       "    <tr>\n",
       "      <th>4</th>\n",
       "      <td>Britain says window to restore Northern Irelan...</td>\n",
       "      <td>BELFAST (Reuters) - Northern Ireland s politic...</td>\n",
       "      <td>September 4, 2017</td>\n",
       "      <td>Factual News</td>\n",
       "      <td>northern ireland s political parties are rapid...</td>\n",
       "    </tr>\n",
       "  </tbody>\n",
       "</table>\n",
       "</div>"
      ],
      "text/plain": [
       "                                               title  \\\n",
       "0  HOLLYWEIRD LIB SUSAN SARANDON Compares Muslim ...   \n",
       "1   Elijah Cummings Called Trump Out To His Face ...   \n",
       "2   Hillary Clinton Says Half Her Cabinet Will Be...   \n",
       "3  Russian bombing of U.S.-backed forces being di...   \n",
       "4  Britain says window to restore Northern Irelan...   \n",
       "\n",
       "                                                text                date  \\\n",
       "0  There are two small problems with your analogy...        Dec 30, 2015   \n",
       "1  Buried in Trump s bonkers interview with New Y...       April 6, 2017   \n",
       "2  Women make up over 50 percent of this country,...      April 26, 2016   \n",
       "3  WASHINGTON (Reuters) - U.S. Defense Secretary ...  September 18, 2017   \n",
       "4  BELFAST (Reuters) - Northern Ireland s politic...   September 4, 2017   \n",
       "\n",
       "  fake_or_factual                                         text_clean  \n",
       "0       Fake News  there are two small problems with your analogy...  \n",
       "1       Fake News  buried in trump s bonkers interview with new y...  \n",
       "2       Fake News  women make up over 50 percent of this country ...  \n",
       "3    Factual News  u s  defense secretary jim mattis said on mond...  \n",
       "4    Factual News  northern ireland s political parties are rapid...  "
      ]
     },
     "execution_count": 38,
     "metadata": {},
     "output_type": "execute_result"
    }
   ],
   "source": [
    "df.head()"
   ]
  },
  {
   "cell_type": "code",
   "execution_count": 39,
   "metadata": {},
   "outputs": [
    {
     "data": {
      "text/plain": [
       "['i',\n",
       " 'me',\n",
       " 'my',\n",
       " 'myself',\n",
       " 'we',\n",
       " 'our',\n",
       " 'ours',\n",
       " 'ourselves',\n",
       " 'you',\n",
       " \"you're\",\n",
       " \"you've\",\n",
       " \"you'll\",\n",
       " \"you'd\",\n",
       " 'your',\n",
       " 'yours',\n",
       " 'yourself',\n",
       " 'yourselves',\n",
       " 'he',\n",
       " 'him',\n",
       " 'his',\n",
       " 'himself',\n",
       " 'she',\n",
       " \"she's\",\n",
       " 'her',\n",
       " 'hers',\n",
       " 'herself',\n",
       " 'it',\n",
       " \"it's\",\n",
       " 'its',\n",
       " 'itself',\n",
       " 'they',\n",
       " 'them',\n",
       " 'their',\n",
       " 'theirs',\n",
       " 'themselves',\n",
       " 'what',\n",
       " 'which',\n",
       " 'who',\n",
       " 'whom',\n",
       " 'this',\n",
       " 'that',\n",
       " \"that'll\",\n",
       " 'these',\n",
       " 'those',\n",
       " 'am',\n",
       " 'is',\n",
       " 'are',\n",
       " 'was',\n",
       " 'were',\n",
       " 'be',\n",
       " 'been',\n",
       " 'being',\n",
       " 'have',\n",
       " 'has',\n",
       " 'had',\n",
       " 'having',\n",
       " 'do',\n",
       " 'does',\n",
       " 'did',\n",
       " 'doing',\n",
       " 'a',\n",
       " 'an',\n",
       " 'the',\n",
       " 'and',\n",
       " 'but',\n",
       " 'if',\n",
       " 'or',\n",
       " 'because',\n",
       " 'as',\n",
       " 'until',\n",
       " 'while',\n",
       " 'of',\n",
       " 'at',\n",
       " 'by',\n",
       " 'for',\n",
       " 'with',\n",
       " 'about',\n",
       " 'against',\n",
       " 'between',\n",
       " 'into',\n",
       " 'through',\n",
       " 'during',\n",
       " 'before',\n",
       " 'after',\n",
       " 'above',\n",
       " 'below',\n",
       " 'to',\n",
       " 'from',\n",
       " 'up',\n",
       " 'down',\n",
       " 'in',\n",
       " 'out',\n",
       " 'on',\n",
       " 'off',\n",
       " 'over',\n",
       " 'under',\n",
       " 'again',\n",
       " 'further',\n",
       " 'then',\n",
       " 'once',\n",
       " 'here',\n",
       " 'there',\n",
       " 'when',\n",
       " 'where',\n",
       " 'why',\n",
       " 'how',\n",
       " 'all',\n",
       " 'any',\n",
       " 'both',\n",
       " 'each',\n",
       " 'few',\n",
       " 'more',\n",
       " 'most',\n",
       " 'other',\n",
       " 'some',\n",
       " 'such',\n",
       " 'no',\n",
       " 'nor',\n",
       " 'not',\n",
       " 'only',\n",
       " 'own',\n",
       " 'same',\n",
       " 'so',\n",
       " 'than',\n",
       " 'too',\n",
       " 'very',\n",
       " 's',\n",
       " 't',\n",
       " 'can',\n",
       " 'will',\n",
       " 'just',\n",
       " 'don',\n",
       " \"don't\",\n",
       " 'should',\n",
       " \"should've\",\n",
       " 'now',\n",
       " 'd',\n",
       " 'll',\n",
       " 'm',\n",
       " 'o',\n",
       " 're',\n",
       " 've',\n",
       " 'y',\n",
       " 'ain',\n",
       " 'aren',\n",
       " \"aren't\",\n",
       " 'couldn',\n",
       " \"couldn't\",\n",
       " 'didn',\n",
       " \"didn't\",\n",
       " 'doesn',\n",
       " \"doesn't\",\n",
       " 'hadn',\n",
       " \"hadn't\",\n",
       " 'hasn',\n",
       " \"hasn't\",\n",
       " 'haven',\n",
       " \"haven't\",\n",
       " 'isn',\n",
       " \"isn't\",\n",
       " 'ma',\n",
       " 'mightn',\n",
       " \"mightn't\",\n",
       " 'mustn',\n",
       " \"mustn't\",\n",
       " 'needn',\n",
       " \"needn't\",\n",
       " 'shan',\n",
       " \"shan't\",\n",
       " 'shouldn',\n",
       " \"shouldn't\",\n",
       " 'wasn',\n",
       " \"wasn't\",\n",
       " 'weren',\n",
       " \"weren't\",\n",
       " 'won',\n",
       " \"won't\",\n",
       " 'wouldn',\n",
       " \"wouldn't\"]"
      ]
     },
     "execution_count": 39,
     "metadata": {},
     "output_type": "execute_result"
    }
   ],
   "source": [
    "# stop words \n",
    "en_stopwords = stopwords.words('english')\n",
    "# for sw in en_stopwords:\n",
    "#     print(sw, end = \" \")\n",
    "en_stopwords\n",
    "\n"
   ]
  },
  {
   "cell_type": "markdown",
   "metadata": {},
   "source": [
    "#### Step-4. Removing the `stopwords` from the df text clean column"
   ]
  },
  {
   "cell_type": "code",
   "execution_count": 40,
   "metadata": {},
   "outputs": [],
   "source": [
    "df['text_clean'] = df['text_clean'].apply(lambda x : \" \".join(w for w in x.split() if w not in (en_stopwords)))"
   ]
  },
  {
   "cell_type": "code",
   "execution_count": 41,
   "metadata": {},
   "outputs": [
    {
     "data": {
      "text/html": [
       "<div>\n",
       "<style scoped>\n",
       "    .dataframe tbody tr th:only-of-type {\n",
       "        vertical-align: middle;\n",
       "    }\n",
       "\n",
       "    .dataframe tbody tr th {\n",
       "        vertical-align: top;\n",
       "    }\n",
       "\n",
       "    .dataframe thead th {\n",
       "        text-align: right;\n",
       "    }\n",
       "</style>\n",
       "<table border=\"1\" class=\"dataframe\">\n",
       "  <thead>\n",
       "    <tr style=\"text-align: right;\">\n",
       "      <th></th>\n",
       "      <th>title</th>\n",
       "      <th>text</th>\n",
       "      <th>date</th>\n",
       "      <th>fake_or_factual</th>\n",
       "      <th>text_clean</th>\n",
       "    </tr>\n",
       "  </thead>\n",
       "  <tbody>\n",
       "    <tr>\n",
       "      <th>0</th>\n",
       "      <td>HOLLYWEIRD LIB SUSAN SARANDON Compares Muslim ...</td>\n",
       "      <td>There are two small problems with your analogy...</td>\n",
       "      <td>Dec 30, 2015</td>\n",
       "      <td>Fake News</td>\n",
       "      <td>two small problems analogy susan jesus muslim ...</td>\n",
       "    </tr>\n",
       "    <tr>\n",
       "      <th>1</th>\n",
       "      <td>Elijah Cummings Called Trump Out To His Face ...</td>\n",
       "      <td>Buried in Trump s bonkers interview with New Y...</td>\n",
       "      <td>April 6, 2017</td>\n",
       "      <td>Fake News</td>\n",
       "      <td>buried trump bonkers interview new york times ...</td>\n",
       "    </tr>\n",
       "    <tr>\n",
       "      <th>2</th>\n",
       "      <td>Hillary Clinton Says Half Her Cabinet Will Be...</td>\n",
       "      <td>Women make up over 50 percent of this country,...</td>\n",
       "      <td>April 26, 2016</td>\n",
       "      <td>Fake News</td>\n",
       "      <td>women make 50 percent country grossly underrep...</td>\n",
       "    </tr>\n",
       "    <tr>\n",
       "      <th>3</th>\n",
       "      <td>Russian bombing of U.S.-backed forces being di...</td>\n",
       "      <td>WASHINGTON (Reuters) - U.S. Defense Secretary ...</td>\n",
       "      <td>September 18, 2017</td>\n",
       "      <td>Factual News</td>\n",
       "      <td>u defense secretary jim mattis said monday rus...</td>\n",
       "    </tr>\n",
       "    <tr>\n",
       "      <th>4</th>\n",
       "      <td>Britain says window to restore Northern Irelan...</td>\n",
       "      <td>BELFAST (Reuters) - Northern Ireland s politic...</td>\n",
       "      <td>September 4, 2017</td>\n",
       "      <td>Factual News</td>\n",
       "      <td>northern ireland political parties rapidly run...</td>\n",
       "    </tr>\n",
       "  </tbody>\n",
       "</table>\n",
       "</div>"
      ],
      "text/plain": [
       "                                               title  \\\n",
       "0  HOLLYWEIRD LIB SUSAN SARANDON Compares Muslim ...   \n",
       "1   Elijah Cummings Called Trump Out To His Face ...   \n",
       "2   Hillary Clinton Says Half Her Cabinet Will Be...   \n",
       "3  Russian bombing of U.S.-backed forces being di...   \n",
       "4  Britain says window to restore Northern Irelan...   \n",
       "\n",
       "                                                text                date  \\\n",
       "0  There are two small problems with your analogy...        Dec 30, 2015   \n",
       "1  Buried in Trump s bonkers interview with New Y...       April 6, 2017   \n",
       "2  Women make up over 50 percent of this country,...      April 26, 2016   \n",
       "3  WASHINGTON (Reuters) - U.S. Defense Secretary ...  September 18, 2017   \n",
       "4  BELFAST (Reuters) - Northern Ireland s politic...   September 4, 2017   \n",
       "\n",
       "  fake_or_factual                                         text_clean  \n",
       "0       Fake News  two small problems analogy susan jesus muslim ...  \n",
       "1       Fake News  buried trump bonkers interview new york times ...  \n",
       "2       Fake News  women make 50 percent country grossly underrep...  \n",
       "3    Factual News  u defense secretary jim mattis said monday rus...  \n",
       "4    Factual News  northern ireland political parties rapidly run...  "
      ]
     },
     "execution_count": 41,
     "metadata": {},
     "output_type": "execute_result"
    }
   ],
   "source": [
    "df.head()"
   ]
  },
  {
   "cell_type": "markdown",
   "metadata": {},
   "source": [
    "### Step-4. `Tokenizing` the data set."
   ]
  },
  {
   "cell_type": "code",
   "execution_count": 42,
   "metadata": {},
   "outputs": [],
   "source": [
    "df['text_clean'] = df['text_clean'].apply(lambda x : word_tokenize(x))"
   ]
  },
  {
   "cell_type": "code",
   "execution_count": 43,
   "metadata": {},
   "outputs": [
    {
     "data": {
      "text/plain": [
       "['two',\n",
       " 'small',\n",
       " 'problems',\n",
       " 'analogy',\n",
       " 'susan',\n",
       " 'jesus',\n",
       " 'muslim',\n",
       " 'joseph',\n",
       " 'traveled',\n",
       " 'bethlehem',\n",
       " 'mary',\n",
       " 'anyone',\n",
       " 'paying',\n",
       " 'attention',\n",
       " 'appear',\n",
       " 'many',\n",
       " 'female',\n",
       " 'refugees',\n",
       " 'accompanying',\n",
       " 'male',\n",
       " 'muslim',\n",
       " 'refugees',\n",
       " 'greece',\n",
       " 'susan',\n",
       " 'sarandon',\n",
       " 'spent',\n",
       " 'christmas',\n",
       " 'holiday',\n",
       " 'greek',\n",
       " 'island',\n",
       " 'lesbos',\n",
       " 'assisting',\n",
       " 'international',\n",
       " 'organizations',\n",
       " 'mounting',\n",
       " 'syrian',\n",
       " 'refugee',\n",
       " 'crisis',\n",
       " 'crisis',\n",
       " 'says',\n",
       " 'recalls',\n",
       " 'travails',\n",
       " 'joseph',\n",
       " 'mary',\n",
       " 'way',\n",
       " 'inn',\n",
       " 'bethlehem',\n",
       " 'column',\n",
       " 'huffington',\n",
       " 'post',\n",
       " 'ryot',\n",
       " '69',\n",
       " 'year',\n",
       " 'old',\n",
       " 'oscar',\n",
       " 'winning',\n",
       " 'actress',\n",
       " 'described',\n",
       " 'meeting',\n",
       " '16',\n",
       " 'year',\n",
       " 'old',\n",
       " 'girl',\n",
       " 'apparently',\n",
       " 'given',\n",
       " 'birth',\n",
       " 'shortly',\n",
       " 'arriving',\n",
       " 'island',\n",
       " 'smile',\n",
       " 'approach',\n",
       " 'without',\n",
       " 'translator',\n",
       " 'conversation',\n",
       " 'basic',\n",
       " 'friendly',\n",
       " 'sarandon',\n",
       " 'wrote',\n",
       " 'experience',\n",
       " 'takes',\n",
       " 'bundle',\n",
       " 'next',\n",
       " 'opens',\n",
       " 'inside',\n",
       " 'perfect',\n",
       " 'rosy',\n",
       " 'newborn',\n",
       " 'actress',\n",
       " 'continues',\n",
       " 'beaming',\n",
       " 'proud',\n",
       " 'young',\n",
       " 'girl',\n",
       " 'given',\n",
       " 'birth',\n",
       " 'manage',\n",
       " 'trip',\n",
       " 'sea',\n",
       " 'walking',\n",
       " 'give',\n",
       " 'birth',\n",
       " 'mary',\n",
       " 'kid',\n",
       " 'joseph',\n",
       " 'took',\n",
       " 'road',\n",
       " 'far',\n",
       " 'manger',\n",
       " 'syrian',\n",
       " 'baby',\n",
       " 'room',\n",
       " 'inn',\n",
       " 'sarandon',\n",
       " 'short',\n",
       " 'column',\n",
       " 'part',\n",
       " 'new',\n",
       " 'collaborative',\n",
       " 'series',\n",
       " 'huffington',\n",
       " 'post',\n",
       " 'virtual',\n",
       " 'reality',\n",
       " 'network',\n",
       " 'ryot',\n",
       " 'called',\n",
       " 'crossing',\n",
       " 'see',\n",
       " 'actress',\n",
       " 'host',\n",
       " 'series',\n",
       " 'reports',\n",
       " 'chronicling',\n",
       " 'refugee',\n",
       " 'crisis',\n",
       " 'unfolds',\n",
       " 'greece',\n",
       " 'actress',\n",
       " 'also',\n",
       " 'criticized',\n",
       " 'political',\n",
       " 'discourse',\n",
       " 'surrounding',\n",
       " 'refugee',\n",
       " 'crisis',\n",
       " 'united',\n",
       " 'states',\n",
       " 'seemed',\n",
       " 'like',\n",
       " 'people',\n",
       " 'loudest',\n",
       " 'voices',\n",
       " 'xenophobic',\n",
       " 'un',\n",
       " 'american',\n",
       " 'said',\n",
       " 'sarandon',\n",
       " 'actor',\n",
       " 'visited',\n",
       " 'greek',\n",
       " 'island',\n",
       " 'assist',\n",
       " 'international',\n",
       " 'aid',\n",
       " 'efforts',\n",
       " 'refugees',\n",
       " 'homeland',\n",
       " 'star',\n",
       " 'mandy',\n",
       " 'patinkin',\n",
       " 'recently',\n",
       " 'spent',\n",
       " 'time',\n",
       " 'assisting',\n",
       " 'international',\n",
       " 'rescue',\n",
       " 'committee',\n",
       " 'wrapping',\n",
       " 'production',\n",
       " 'fifth',\n",
       " 'season',\n",
       " 'hit',\n",
       " 'showtime',\n",
       " 'drama',\n",
       " 'via',\n",
       " 'breitbart',\n",
       " 'news']"
      ]
     },
     "execution_count": 43,
     "metadata": {},
     "output_type": "execute_result"
    }
   ],
   "source": [
    "df['text_clean'][0] # Each entry have been tokenized."
   ]
  },
  {
   "cell_type": "markdown",
   "metadata": {},
   "source": [
    "### Step-5. To use `Lammatizing` instead of stemming."
   ]
  },
  {
   "cell_type": "code",
   "execution_count": 44,
   "metadata": {},
   "outputs": [
    {
     "name": "stderr",
     "output_type": "stream",
     "text": [
      "[nltk_data] Downloading package wordnet to\n",
      "[nltk_data]     /Users/pavankumar/nltk_data...\n",
      "[nltk_data]   Package wordnet is already up-to-date!\n"
     ]
    }
   ],
   "source": [
    " nltk.download('wordnet')\n",
    " lemmatizer = WordNetLemmatizer()\n",
    "\n",
    "df['text_clean']= df['text_clean'].apply(lambda x : [lemmatizer.lemmatize(token) for token in x] )\n"
   ]
  },
  {
   "cell_type": "markdown",
   "metadata": {},
   "source": [
    "### The tokens has been lammatized."
   ]
  },
  {
   "cell_type": "code",
   "execution_count": 45,
   "metadata": {},
   "outputs": [
    {
     "data": {
      "text/plain": [
       "['two',\n",
       " 'small',\n",
       " 'problem',\n",
       " 'analogy',\n",
       " 'susan',\n",
       " 'jesus',\n",
       " 'muslim',\n",
       " 'joseph',\n",
       " 'traveled',\n",
       " 'bethlehem',\n",
       " 'mary',\n",
       " 'anyone',\n",
       " 'paying',\n",
       " 'attention',\n",
       " 'appear',\n",
       " 'many',\n",
       " 'female',\n",
       " 'refugee',\n",
       " 'accompanying',\n",
       " 'male',\n",
       " 'muslim',\n",
       " 'refugee',\n",
       " 'greece',\n",
       " 'susan',\n",
       " 'sarandon',\n",
       " 'spent',\n",
       " 'christmas',\n",
       " 'holiday',\n",
       " 'greek',\n",
       " 'island',\n",
       " 'lesbos',\n",
       " 'assisting',\n",
       " 'international',\n",
       " 'organization',\n",
       " 'mounting',\n",
       " 'syrian',\n",
       " 'refugee',\n",
       " 'crisis',\n",
       " 'crisis',\n",
       " 'say',\n",
       " 'recall',\n",
       " 'travail',\n",
       " 'joseph',\n",
       " 'mary',\n",
       " 'way',\n",
       " 'inn',\n",
       " 'bethlehem',\n",
       " 'column',\n",
       " 'huffington',\n",
       " 'post',\n",
       " 'ryot',\n",
       " '69',\n",
       " 'year',\n",
       " 'old',\n",
       " 'oscar',\n",
       " 'winning',\n",
       " 'actress',\n",
       " 'described',\n",
       " 'meeting',\n",
       " '16',\n",
       " 'year',\n",
       " 'old',\n",
       " 'girl',\n",
       " 'apparently',\n",
       " 'given',\n",
       " 'birth',\n",
       " 'shortly',\n",
       " 'arriving',\n",
       " 'island',\n",
       " 'smile',\n",
       " 'approach',\n",
       " 'without',\n",
       " 'translator',\n",
       " 'conversation',\n",
       " 'basic',\n",
       " 'friendly',\n",
       " 'sarandon',\n",
       " 'wrote',\n",
       " 'experience',\n",
       " 'take',\n",
       " 'bundle',\n",
       " 'next',\n",
       " 'open',\n",
       " 'inside',\n",
       " 'perfect',\n",
       " 'rosy',\n",
       " 'newborn',\n",
       " 'actress',\n",
       " 'continues',\n",
       " 'beaming',\n",
       " 'proud',\n",
       " 'young',\n",
       " 'girl',\n",
       " 'given',\n",
       " 'birth',\n",
       " 'manage',\n",
       " 'trip',\n",
       " 'sea',\n",
       " 'walking',\n",
       " 'give',\n",
       " 'birth',\n",
       " 'mary',\n",
       " 'kid',\n",
       " 'joseph',\n",
       " 'took',\n",
       " 'road',\n",
       " 'far',\n",
       " 'manger',\n",
       " 'syrian',\n",
       " 'baby',\n",
       " 'room',\n",
       " 'inn',\n",
       " 'sarandon',\n",
       " 'short',\n",
       " 'column',\n",
       " 'part',\n",
       " 'new',\n",
       " 'collaborative',\n",
       " 'series',\n",
       " 'huffington',\n",
       " 'post',\n",
       " 'virtual',\n",
       " 'reality',\n",
       " 'network',\n",
       " 'ryot',\n",
       " 'called',\n",
       " 'crossing',\n",
       " 'see',\n",
       " 'actress',\n",
       " 'host',\n",
       " 'series',\n",
       " 'report',\n",
       " 'chronicling',\n",
       " 'refugee',\n",
       " 'crisis',\n",
       " 'unfolds',\n",
       " 'greece',\n",
       " 'actress',\n",
       " 'also',\n",
       " 'criticized',\n",
       " 'political',\n",
       " 'discourse',\n",
       " 'surrounding',\n",
       " 'refugee',\n",
       " 'crisis',\n",
       " 'united',\n",
       " 'state',\n",
       " 'seemed',\n",
       " 'like',\n",
       " 'people',\n",
       " 'loudest',\n",
       " 'voice',\n",
       " 'xenophobic',\n",
       " 'un',\n",
       " 'american',\n",
       " 'said',\n",
       " 'sarandon',\n",
       " 'actor',\n",
       " 'visited',\n",
       " 'greek',\n",
       " 'island',\n",
       " 'assist',\n",
       " 'international',\n",
       " 'aid',\n",
       " 'effort',\n",
       " 'refugee',\n",
       " 'homeland',\n",
       " 'star',\n",
       " 'mandy',\n",
       " 'patinkin',\n",
       " 'recently',\n",
       " 'spent',\n",
       " 'time',\n",
       " 'assisting',\n",
       " 'international',\n",
       " 'rescue',\n",
       " 'committee',\n",
       " 'wrapping',\n",
       " 'production',\n",
       " 'fifth',\n",
       " 'season',\n",
       " 'hit',\n",
       " 'showtime',\n",
       " 'drama',\n",
       " 'via',\n",
       " 'breitbart',\n",
       " 'news']"
      ]
     },
     "execution_count": 45,
     "metadata": {},
     "output_type": "execute_result"
    }
   ],
   "source": [
    "df['text_clean'][0]"
   ]
  },
  {
   "cell_type": "code",
   "execution_count": 46,
   "metadata": {},
   "outputs": [
    {
     "data": {
      "text/plain": [
       "['two',\n",
       " 'small',\n",
       " 'problem',\n",
       " 'analogy',\n",
       " 'susan',\n",
       " 'jesus',\n",
       " 'muslim',\n",
       " 'joseph',\n",
       " 'traveled',\n",
       " 'bethlehem']"
      ]
     },
     "execution_count": 46,
     "metadata": {},
     "output_type": "execute_result"
    }
   ],
   "source": [
    "tokens_clean = sum(df['text_clean'], [])\n",
    "\n",
    "tokens_clean[:10]"
   ]
  },
  {
   "cell_type": "markdown",
   "metadata": {},
   "source": [
    "### Step-6. Creating `N grams`."
   ]
  },
  {
   "cell_type": "code",
   "execution_count": 47,
   "metadata": {},
   "outputs": [
    {
     "name": "stdout",
     "output_type": "stream",
     "text": [
      "      unigram  count\n",
      "0       trump    612\n",
      "1        said    596\n",
      "2           u    314\n",
      "3       state    285\n",
      "4   president    275\n",
      "5       would    227\n",
      "6        year    184\n",
      "7         one    172\n",
      "8     clinton    151\n",
      "9  republican    144\n"
     ]
    }
   ],
   "source": [
    "unigrams = (pd.Series(nltk.ngrams(tokens_clean, 1)).value_counts())\n",
    "# print(unigrams[:10])\n",
    "unigrams_df = unigrams.reset_index()\n",
    "unigrams_df.columns = ['unigram', 'count']\n",
    "# extracting the strings from tuple.\n",
    "unigrams_df['unigram'] = unigrams_df['unigram'].apply(lambda x: x[0])\n",
    "\n",
    "print(unigrams_df[:10])"
   ]
  },
  {
   "cell_type": "code",
   "execution_count": 48,
   "metadata": {},
   "outputs": [
    {
     "data": {
      "text/html": [
       "<div>\n",
       "<style scoped>\n",
       "    .dataframe tbody tr th:only-of-type {\n",
       "        vertical-align: middle;\n",
       "    }\n",
       "\n",
       "    .dataframe tbody tr th {\n",
       "        vertical-align: top;\n",
       "    }\n",
       "\n",
       "    .dataframe thead th {\n",
       "        text-align: right;\n",
       "    }\n",
       "</style>\n",
       "<table border=\"1\" class=\"dataframe\">\n",
       "  <thead>\n",
       "    <tr style=\"text-align: right;\">\n",
       "      <th></th>\n",
       "      <th>unigram</th>\n",
       "      <th>count</th>\n",
       "    </tr>\n",
       "  </thead>\n",
       "  <tbody>\n",
       "    <tr>\n",
       "      <th>0</th>\n",
       "      <td>trump</td>\n",
       "      <td>612</td>\n",
       "    </tr>\n",
       "    <tr>\n",
       "      <th>1</th>\n",
       "      <td>said</td>\n",
       "      <td>596</td>\n",
       "    </tr>\n",
       "    <tr>\n",
       "      <th>2</th>\n",
       "      <td>u</td>\n",
       "      <td>314</td>\n",
       "    </tr>\n",
       "    <tr>\n",
       "      <th>3</th>\n",
       "      <td>state</td>\n",
       "      <td>285</td>\n",
       "    </tr>\n",
       "    <tr>\n",
       "      <th>4</th>\n",
       "      <td>president</td>\n",
       "      <td>275</td>\n",
       "    </tr>\n",
       "  </tbody>\n",
       "</table>\n",
       "</div>"
      ],
      "text/plain": [
       "     unigram  count\n",
       "0      trump    612\n",
       "1       said    596\n",
       "2          u    314\n",
       "3      state    285\n",
       "4  president    275"
      ]
     },
     "execution_count": 48,
     "metadata": {},
     "output_type": "execute_result"
    }
   ],
   "source": [
    "unigrams_df.head()"
   ]
  },
  {
   "cell_type": "code",
   "execution_count": 49,
   "metadata": {},
   "outputs": [
    {
     "name": "stderr",
     "output_type": "stream",
     "text": [
      "/var/folders/ry/cpzzpnh51yvfh6ctzlsm0jsw0000gn/T/ipykernel_6566/2818084446.py:1: FutureWarning: \n",
      "\n",
      "Passing `palette` without assigning `hue` is deprecated and will be removed in v0.14.0. Assign the `y` variable to `hue` and set `legend=False` for the same effect.\n",
      "\n",
      "  sns.barplot(x =\"count\", y = \"unigram\",palette=['blue'], orient = 'h',data = unigrams_df[:10]).set(title = \"Most unigram after Processing\")\n",
      "/var/folders/ry/cpzzpnh51yvfh6ctzlsm0jsw0000gn/T/ipykernel_6566/2818084446.py:1: UserWarning: \n",
      "The palette list has fewer values (1) than needed (10) and will cycle, which may produce an uninterpretable plot.\n",
      "  sns.barplot(x =\"count\", y = \"unigram\",palette=['blue'], orient = 'h',data = unigrams_df[:10]).set(title = \"Most unigram after Processing\")\n"
     ]
    },
    {
     "data": {
      "text/plain": [
       "[Text(0.5, 1.0, 'Most unigram after Processing')]"
      ]
     },
     "execution_count": 49,
     "metadata": {},
     "output_type": "execute_result"
    },
    {
     "data": {
      "image/png": "[encoded data removed]",
      "text/plain": [
       "<Figure size 1200x800 with 1 Axes>"
      ]
     },
     "metadata": {},
     "output_type": "display_data"
    }
   ],
   "source": [
    "sns.barplot(x =\"count\", y = \"unigram\",palette=['blue'], orient = 'h',data = unigrams_df[:10]).set(title = \"Most unigram after Processing\")\n",
    "            \n",
    "            \n",
    "            "
   ]
  },
  {
   "cell_type": "markdown",
   "metadata": {},
   "source": [
    "#### `Bigrams`"
   ]
  },
  {
   "cell_type": "code",
   "execution_count": 50,
   "metadata": {},
   "outputs": [
    {
     "name": "stdout",
     "output_type": "stream",
     "text": [
      "(donald, trump)        115\n",
      "(united, state)         84\n",
      "(white, house)          77\n",
      "(president, donald)     47\n",
      "(hillary, clinton)      44\n",
      "(new, york)             33\n",
      "(featured, image)       30\n",
      "(supreme, court)        30\n",
      "(year, old)             30\n",
      "(image, via)            29\n",
      "Name: count, dtype: int64\n"
     ]
    }
   ],
   "source": [
    "bigrams = (pd.Series(nltk.ngrams(tokens_clean, 2)).value_counts())\n",
    "print(bigrams[:10])\n",
    "bigrams_df = bigrams.reset_index()\n",
    "bigrams_df.columns = ['bigram', 'count']\n",
    "# # extracting the strings from tuple.\n",
    "bigrams_df['bigram'] = bigrams_df['bigram'].apply(lambda x: \" \".join(x))\n",
    "\n",
    "# print(bigrams_df[:10])"
   ]
  },
  {
   "cell_type": "code",
   "execution_count": 51,
   "metadata": {},
   "outputs": [
    {
     "data": {
      "text/plain": [
       "((donald, trump)        115\n",
       " (united, state)         84\n",
       " (white, house)          77\n",
       " (president, donald)     47\n",
       " (hillary, clinton)      44\n",
       " Name: count, dtype: int64,\n",
       "              bigram  count\n",
       " 0      donald trump    115\n",
       " 1      united state     84\n",
       " 2       white house     77\n",
       " 3  president donald     47\n",
       " 4   hillary clinton     44)"
      ]
     },
     "execution_count": 51,
     "metadata": {},
     "output_type": "execute_result"
    }
   ],
   "source": [
    "bigrams.head(), bigrams_df.head()"
   ]
  },
  {
   "cell_type": "code",
   "execution_count": 52,
   "metadata": {},
   "outputs": [
    {
     "name": "stderr",
     "output_type": "stream",
     "text": [
      "/var/folders/ry/cpzzpnh51yvfh6ctzlsm0jsw0000gn/T/ipykernel_6566/984966553.py:1: FutureWarning: \n",
      "\n",
      "Passing `palette` without assigning `hue` is deprecated and will be removed in v0.14.0. Assign the `y` variable to `hue` and set `legend=False` for the same effect.\n",
      "\n",
      "  sns.barplot(x ='count', y = 'bigram', data = bigrams_df[:10], orient = 'h', palette = ['green']).set(title= 'Most famous bigrams')\n",
      "/var/folders/ry/cpzzpnh51yvfh6ctzlsm0jsw0000gn/T/ipykernel_6566/984966553.py:1: UserWarning: \n",
      "The palette list has fewer values (1) than needed (10) and will cycle, which may produce an uninterpretable plot.\n",
      "  sns.barplot(x ='count', y = 'bigram', data = bigrams_df[:10], orient = 'h', palette = ['green']).set(title= 'Most famous bigrams')\n"
     ]
    },
    {
     "data": {
      "text/plain": [
       "[Text(0.5, 1.0, 'Most famous bigrams')]"
      ]
     },
     "execution_count": 52,
     "metadata": {},
     "output_type": "execute_result"
    },
    {
     "data": {
      "image/png": "[encoded data removed]",
      "text/plain": [
       "<Figure size 1200x800 with 1 Axes>"
      ]
     },
     "metadata": {},
     "output_type": "display_data"
    }
   ],
   "source": [
    "sns.barplot(x ='count', y = 'bigram', data = bigrams_df[:10], orient = 'h', palette = ['green']).set(title= 'Most famous bigrams')"
   ]
  },
  {
   "cell_type": "markdown",
   "metadata": {},
   "source": [
    "#### `Trigrams`"
   ]
  },
  {
   "cell_type": "code",
   "execution_count": 53,
   "metadata": {},
   "outputs": [
    {
     "data": {
      "text/html": [
       "<div>\n",
       "<style scoped>\n",
       "    .dataframe tbody tr th:only-of-type {\n",
       "        vertical-align: middle;\n",
       "    }\n",
       "\n",
       "    .dataframe tbody tr th {\n",
       "        vertical-align: top;\n",
       "    }\n",
       "\n",
       "    .dataframe thead th {\n",
       "        text-align: right;\n",
       "    }\n",
       "</style>\n",
       "<table border=\"1\" class=\"dataframe\">\n",
       "  <thead>\n",
       "    <tr style=\"text-align: right;\">\n",
       "      <th></th>\n",
       "      <th>trigram</th>\n",
       "      <th>count</th>\n",
       "    </tr>\n",
       "  </thead>\n",
       "  <tbody>\n",
       "    <tr>\n",
       "      <th>0</th>\n",
       "      <td>president donald trump</td>\n",
       "      <td>46</td>\n",
       "    </tr>\n",
       "    <tr>\n",
       "      <th>1</th>\n",
       "      <td>featured image via</td>\n",
       "      <td>28</td>\n",
       "    </tr>\n",
       "    <tr>\n",
       "      <th>2</th>\n",
       "      <td>pic twitter com</td>\n",
       "      <td>26</td>\n",
       "    </tr>\n",
       "    <tr>\n",
       "      <th>3</th>\n",
       "      <td>president barack obama</td>\n",
       "      <td>17</td>\n",
       "    </tr>\n",
       "    <tr>\n",
       "      <th>4</th>\n",
       "      <td>new york time</td>\n",
       "      <td>11</td>\n",
       "    </tr>\n",
       "  </tbody>\n",
       "</table>\n",
       "</div>"
      ],
      "text/plain": [
       "                  trigram  count\n",
       "0  president donald trump     46\n",
       "1      featured image via     28\n",
       "2         pic twitter com     26\n",
       "3  president barack obama     17\n",
       "4           new york time     11"
      ]
     },
     "execution_count": 53,
     "metadata": {},
     "output_type": "execute_result"
    }
   ],
   "source": [
    "trigrams = pd.Series(nltk.ngrams(tokens_clean, 3)).value_counts()\n",
    "trigrams.head()\n",
    "trigrams_df = trigrams.reset_index()\n",
    "trigrams_df.columns = ['trigram', 'count']\n",
    "trigrams_df['trigram'] = trigrams_df['trigram'].apply(lambda x : \" \".join(x))\n",
    "\n",
    "trigrams_df.head()"
   ]
  },
  {
   "cell_type": "code",
   "execution_count": 54,
   "metadata": {},
   "outputs": [
    {
     "data": {
      "text/plain": [
       "[Text(0.5, 1.0, 'Most famous trigrams')]"
      ]
     },
     "execution_count": 54,
     "metadata": {},
     "output_type": "execute_result"
    },
    {
     "data": {
      "image/png": "[encoded data removed]",
      "text/plain": [
       "<Figure size 1200x800 with 1 Axes>"
      ]
     },
     "metadata": {},
     "output_type": "display_data"
    }
   ],
   "source": [
    "sns.barplot(x = 'count', y = 'trigram', data = trigrams_df[:10], orient = 'h').set(title = 'Most famous trigrams')"
   ]
  },
  {
   "cell_type": "markdown",
   "metadata": {},
   "source": [
    "#### `sentiment analysis`\n",
    "- How sentiment differs in the both the real and fake catagories."
   ]
  },
  {
   "cell_type": "code",
   "execution_count": 55,
   "metadata": {},
   "outputs": [],
   "source": [
    "# assisgining one more column to original df regarding the sentiment values.\n",
    "vader_sentiment = SentimentIntensityAnalyzer()\n",
    "df['sentiment_score'] = df['text'].apply(lambda x: vader_sentiment.polarity_scores(x)['compound'] )"
   ]
  },
  {
   "cell_type": "code",
   "execution_count": 56,
   "metadata": {},
   "outputs": [
    {
     "data": {
      "text/html": [
       "<div>\n",
       "<style scoped>\n",
       "    .dataframe tbody tr th:only-of-type {\n",
       "        vertical-align: middle;\n",
       "    }\n",
       "\n",
       "    .dataframe tbody tr th {\n",
       "        vertical-align: top;\n",
       "    }\n",
       "\n",
       "    .dataframe thead th {\n",
       "        text-align: right;\n",
       "    }\n",
       "</style>\n",
       "<table border=\"1\" class=\"dataframe\">\n",
       "  <thead>\n",
       "    <tr style=\"text-align: right;\">\n",
       "      <th></th>\n",
       "      <th>title</th>\n",
       "      <th>text</th>\n",
       "      <th>date</th>\n",
       "      <th>fake_or_factual</th>\n",
       "      <th>text_clean</th>\n",
       "      <th>sentiment_score</th>\n",
       "    </tr>\n",
       "  </thead>\n",
       "  <tbody>\n",
       "    <tr>\n",
       "      <th>0</th>\n",
       "      <td>HOLLYWEIRD LIB SUSAN SARANDON Compares Muslim ...</td>\n",
       "      <td>There are two small problems with your analogy...</td>\n",
       "      <td>Dec 30, 2015</td>\n",
       "      <td>Fake News</td>\n",
       "      <td>[two, small, problem, analogy, susan, jesus, m...</td>\n",
       "      <td>-0.3660</td>\n",
       "    </tr>\n",
       "    <tr>\n",
       "      <th>1</th>\n",
       "      <td>Elijah Cummings Called Trump Out To His Face ...</td>\n",
       "      <td>Buried in Trump s bonkers interview with New Y...</td>\n",
       "      <td>April 6, 2017</td>\n",
       "      <td>Fake News</td>\n",
       "      <td>[buried, trump, bonkers, interview, new, york,...</td>\n",
       "      <td>-0.8197</td>\n",
       "    </tr>\n",
       "    <tr>\n",
       "      <th>2</th>\n",
       "      <td>Hillary Clinton Says Half Her Cabinet Will Be...</td>\n",
       "      <td>Women make up over 50 percent of this country,...</td>\n",
       "      <td>April 26, 2016</td>\n",
       "      <td>Fake News</td>\n",
       "      <td>[woman, make, 50, percent, country, grossly, u...</td>\n",
       "      <td>0.9779</td>\n",
       "    </tr>\n",
       "    <tr>\n",
       "      <th>3</th>\n",
       "      <td>Russian bombing of U.S.-backed forces being di...</td>\n",
       "      <td>WASHINGTON (Reuters) - U.S. Defense Secretary ...</td>\n",
       "      <td>September 18, 2017</td>\n",
       "      <td>Factual News</td>\n",
       "      <td>[u, defense, secretary, jim, mattis, said, mon...</td>\n",
       "      <td>-0.3400</td>\n",
       "    </tr>\n",
       "    <tr>\n",
       "      <th>4</th>\n",
       "      <td>Britain says window to restore Northern Irelan...</td>\n",
       "      <td>BELFAST (Reuters) - Northern Ireland s politic...</td>\n",
       "      <td>September 4, 2017</td>\n",
       "      <td>Factual News</td>\n",
       "      <td>[northern, ireland, political, party, rapidly,...</td>\n",
       "      <td>0.8590</td>\n",
       "    </tr>\n",
       "  </tbody>\n",
       "</table>\n",
       "</div>"
      ],
      "text/plain": [
       "                                               title  \\\n",
       "0  HOLLYWEIRD LIB SUSAN SARANDON Compares Muslim ...   \n",
       "1   Elijah Cummings Called Trump Out To His Face ...   \n",
       "2   Hillary Clinton Says Half Her Cabinet Will Be...   \n",
       "3  Russian bombing of U.S.-backed forces being di...   \n",
       "4  Britain says window to restore Northern Irelan...   \n",
       "\n",
       "                                                text                date  \\\n",
       "0  There are two small problems with your analogy...        Dec 30, 2015   \n",
       "1  Buried in Trump s bonkers interview with New Y...       April 6, 2017   \n",
       "2  Women make up over 50 percent of this country,...      April 26, 2016   \n",
       "3  WASHINGTON (Reuters) - U.S. Defense Secretary ...  September 18, 2017   \n",
       "4  BELFAST (Reuters) - Northern Ireland s politic...   September 4, 2017   \n",
       "\n",
       "  fake_or_factual                                         text_clean  \\\n",
       "0       Fake News  [two, small, problem, analogy, susan, jesus, m...   \n",
       "1       Fake News  [buried, trump, bonkers, interview, new, york,...   \n",
       "2       Fake News  [woman, make, 50, percent, country, grossly, u...   \n",
       "3    Factual News  [u, defense, secretary, jim, mattis, said, mon...   \n",
       "4    Factual News  [northern, ireland, political, party, rapidly,...   \n",
       "\n",
       "   sentiment_score  \n",
       "0          -0.3660  \n",
       "1          -0.8197  \n",
       "2           0.9779  \n",
       "3          -0.3400  \n",
       "4           0.8590  "
      ]
     },
     "execution_count": 56,
     "metadata": {},
     "output_type": "execute_result"
    }
   ],
   "source": [
    "df.head()"
   ]
  },
  {
   "cell_type": "markdown",
   "metadata": {},
   "source": [
    "Creating bins for positive, negative, neutral values text assigning and this is how we can analyze the how many positive and etc.. sentiments are.\n",
    "\n",
    "- Below I have created theree bins are following. \n",
    "- [-1,-0.1] > Negative\n",
    "- [-0.1, 0.1] > Neutral\n",
    "- [0.1, 1] > Positive"
   ]
  },
  {
   "cell_type": "code",
   "execution_count": 57,
   "metadata": {},
   "outputs": [],
   "source": [
    "bins = [-1,-0.1, 0.1, 1 ]\n",
    "names = ['Negative', 'Neutral', 'Positive']\n"
   ]
  },
  {
   "cell_type": "markdown",
   "metadata": {},
   "source": [
    "Assigning the bins with names."
   ]
  },
  {
   "cell_type": "code",
   "execution_count": 58,
   "metadata": {},
   "outputs": [],
   "source": [
    "df['vader_sentiment_label'] = pd.cut(df['sentiment_score'] , bins = bins, labels = names)"
   ]
  },
  {
   "cell_type": "code",
   "execution_count": 59,
   "metadata": {},
   "outputs": [
    {
     "data": {
      "text/plain": [
       "<Axes: xlabel='vader_sentiment_label'>"
      ]
     },
     "execution_count": 59,
     "metadata": {},
     "output_type": "execute_result"
    },
    {
     "data": {
      "image/png": "[encoded data removed]",
      "text/plain": [
       "<Figure size 1200x800 with 1 Axes>"
      ]
     },
     "metadata": {},
     "output_type": "display_data"
    }
   ],
   "source": [
    "df['vader_sentiment_label'].value_counts().plot(kind = 'bar', color = default_plot_color)"
   ]
  },
  {
   "cell_type": "markdown",
   "metadata": {},
   "source": [
    "sns plot"
   ]
  },
  {
   "cell_type": "code",
   "execution_count": 60,
   "metadata": {},
   "outputs": [
    {
     "data": {
      "text/plain": [
       "[Text(0.5, 1.0, ' Sentiment by news type')]"
      ]
     },
     "execution_count": 60,
     "metadata": {},
     "output_type": "execute_result"
    },
    {
     "data": {
      "image/png": "[encoded data removed]",
      "text/plain": [
       "<Figure size 1200x800 with 1 Axes>"
      ]
     },
     "metadata": {},
     "output_type": "display_data"
    }
   ],
   "source": [
    "sns.countplot(x = \"fake_or_factual\", hue = 'vader_sentiment_label', data = df, ).set(title = \" Sentiment by news type\")"
   ]
  },
  {
   "cell_type": "markdown",
   "metadata": {},
   "source": [
    "#### Topic Modeling. ** 133, 134, 135 ?"
   ]
  },
  {
   "cell_type": "code",
   "execution_count": 61,
   "metadata": {},
   "outputs": [
    {
     "data": {
      "text/plain": [
       "0     [two, small, problem, analogy, susan, jesus, m...\n",
       "1     [buried, trump, bonkers, interview, new, york,...\n",
       "2     [woman, make, 50, percent, country, grossly, u...\n",
       "3     [shame, teen, vogue, maxine, water, guest, tee...\n",
       "4     [former, white, house, press, secretary, obama...\n",
       "                            ...                        \n",
       "93    [jon, ritzheimer, infamous, hater, muslim, one...\n",
       "94    [well, take, long, look, first, beastiality, m...\n",
       "95    [florida, toxic, dangerous, stand, ground, gun...\n",
       "96    [politico, report, almost, neck, neck, race, h...\n",
       "97    [small, obscure, community, college, disallowi...\n",
       "Name: text_clean, Length: 98, dtype: object"
      ]
     },
     "execution_count": 61,
     "metadata": {},
     "output_type": "execute_result"
    }
   ],
   "source": [
    "fake_news_text = df[df['fake_or_factual']=='Fake News']['text_clean'].reset_index(drop= True)\n",
    "fake_news_text"
   ]
  },
  {
   "cell_type": "code",
   "execution_count": 62,
   "metadata": {},
   "outputs": [],
   "source": [
    "dictionary_fake = corpora.Dictionary(fake_news_text)\n"
   ]
  },
  {
   "cell_type": "code",
   "execution_count": 63,
   "metadata": {},
   "outputs": [],
   "source": [
    "doc_term_fake = [dictionary_fake.doc2bow(text) for text in fake_news_text]"
   ]
  },
  {
   "cell_type": "code",
   "execution_count": 64,
   "metadata": {},
   "outputs": [],
   "source": [
    "coherence_values = []\n",
    "model_list = []\n",
    "\n",
    "min_topics = 2\n",
    "max_topics = 11\n",
    "\n",
    "\n",
    "for num_topics_i in range(min_topics, max_topics+1):\n",
    "    model = gensim.models.LdaModel(doc_term_fake, num_topics = num_topics_i, id2word = dictionary_fake)\n",
    "    model_list.append(model)\n",
    "    Coherence_model = CoherenceModel(model = model, texts= fake_news_text, dictionary = dictionary_fake, coherence = 'c_v')\n",
    "    coherence_values.append(Coherence_model.get_coherence())"
   ]
  },
  {
   "cell_type": "code",
   "execution_count": 65,
   "metadata": {},
   "outputs": [
    {
     "data": {
      "image/png": "[encoded data removed]",
      "text/plain": [
       "<Figure size 1200x800 with 1 Axes>"
      ]
     },
     "metadata": {},
     "output_type": "display_data"
    }
   ],
   "source": [
    "plt.plot(range(min_topics, max_topics + 1), coherence_values)\n",
    "plt.xlabel(\"Number of Topics\")\n",
    "plt.ylabel(\"Coherence score\")\n",
    "plt.legend((\"coherence_values\"), loc='best')\n",
    "plt.show()"
   ]
  },
  {
   "cell_type": "code",
   "execution_count": 66,
   "metadata": {},
   "outputs": [],
   "source": [
    "num_topics_lda = 7\n",
    "lda_model = gensim.models.LdaModel(corpus = doc_term_fake, id2word = dictionary_fake, num_topics= num_topics_lda)"
   ]
  },
  {
   "cell_type": "code",
   "execution_count": 67,
   "metadata": {},
   "outputs": [
    {
     "data": {
      "text/plain": [
       "[(0,\n",
       "  '0.009*\"trump\" + 0.005*\"president\" + 0.005*\"clinton\" + 0.005*\"republican\" + 0.004*\"said\" + 0.004*\"student\" + 0.004*\"state\" + 0.003*\"law\" + 0.003*\"year\" + 0.003*\"one\"'),\n",
       " (1,\n",
       "  '0.016*\"trump\" + 0.006*\"said\" + 0.005*\"president\" + 0.004*\"one\" + 0.004*\"would\" + 0.004*\"time\" + 0.004*\"clinton\" + 0.004*\"u\" + 0.003*\"woman\" + 0.003*\"state\"'),\n",
       " (2,\n",
       "  '0.014*\"trump\" + 0.007*\"president\" + 0.006*\"said\" + 0.005*\"u\" + 0.004*\"clinton\" + 0.003*\"year\" + 0.003*\"would\" + 0.003*\"republican\" + 0.003*\"one\" + 0.003*\"obama\"'),\n",
       " (3,\n",
       "  '0.013*\"trump\" + 0.006*\"said\" + 0.004*\"u\" + 0.004*\"president\" + 0.003*\"people\" + 0.003*\"republican\" + 0.003*\"year\" + 0.003*\"state\" + 0.003*\"one\" + 0.003*\"clinton\"'),\n",
       " (4,\n",
       "  '0.010*\"trump\" + 0.004*\"time\" + 0.004*\"one\" + 0.004*\"mccain\" + 0.004*\"said\" + 0.004*\"clinton\" + 0.003*\"u\" + 0.003*\"president\" + 0.003*\"syria\" + 0.003*\"would\"'),\n",
       " (5,\n",
       "  '0.014*\"trump\" + 0.007*\"state\" + 0.006*\"clinton\" + 0.006*\"said\" + 0.004*\"would\" + 0.004*\"obama\" + 0.004*\"president\" + 0.004*\"time\" + 0.003*\"u\" + 0.003*\"woman\"'),\n",
       " (6,\n",
       "  '0.009*\"trump\" + 0.005*\"state\" + 0.005*\"one\" + 0.005*\"said\" + 0.005*\"u\" + 0.004*\"people\" + 0.004*\"woman\" + 0.004*\"would\" + 0.004*\"president\" + 0.004*\"clinton\"')]"
      ]
     },
     "execution_count": 67,
     "metadata": {},
     "output_type": "execute_result"
    }
   ],
   "source": [
    "lda_model.print_topics(num_topics = num_topics_lda, num_words = 10)\n"
   ]
  },
  {
   "cell_type": "markdown",
   "metadata": {},
   "source": [
    "- Using the different methods.\n",
    "- Using Tf IDF vectorization.\n",
    "- Latent semantic analysis.\n",
    "- Creting a couple of different furnction for TF IDF corpus."
   ]
  },
  {
   "cell_type": "code",
   "execution_count": 68,
   "metadata": {},
   "outputs": [],
   "source": [
    "from functions import tfidf_corpus, get_coherence_scores\n"
   ]
  },
  {
   "cell_type": "code",
   "execution_count": 69,
   "metadata": {},
   "outputs": [
    {
     "data": {
      "text/plain": [
       "<gensim.interfaces.TransformedCorpus at 0x32880cbe0>"
      ]
     },
     "execution_count": 69,
     "metadata": {},
     "output_type": "execute_result"
    }
   ],
   "source": [
    "corpus_tfidf_fake = tfidf_corpus(doc_term_fake)\n",
    "corpus_tfidf_fake\n"
   ]
  },
  {
   "cell_type": "code",
   "execution_count": 70,
   "metadata": {},
   "outputs": [
    {
     "data": {
      "image/png": "[encoded data removed]",
      "text/plain": [
       "<Figure size 1200x800 with 1 Axes>"
      ]
     },
     "metadata": {},
     "output_type": "display_data"
    }
   ],
   "source": [
    "get_coherence_scores(corpus_tfidf_fake, dictionary_fake, fake_news_text, min_topics =2, max_topics = 11)"
   ]
  },
  {
   "cell_type": "code",
   "execution_count": 71,
   "metadata": {},
   "outputs": [],
   "source": [
    "lsa_model = LsiModel(corpus_tfidf_fake, id2word=dictionary_fake, num_topics = 7)\n"
   ]
  },
  {
   "cell_type": "code",
   "execution_count": 72,
   "metadata": {},
   "outputs": [
    {
     "data": {
      "text/plain": [
       "[(0,\n",
       "  '0.193*\"trump\" + 0.136*\"clinton\" + 0.093*\"hillary\" + 0.093*\"president\" + 0.087*\"woman\" + 0.086*\"obama\" + 0.082*\"boiler\" + 0.078*\"republican\" + 0.077*\"flynn\" + 0.076*\"party\"'),\n",
       " (1,\n",
       "  '0.341*\"boiler\" + 0.283*\"acr\" + 0.238*\"room\" + 0.238*\"pm\" + 0.217*\"00\" + 0.191*\"join\" + 0.172*\"broadcast\" + 0.166*\"radio\" + 0.131*\"animal\" + 0.131*\"tune\"'),\n",
       " (2,\n",
       "  '0.647*\"flynn\" + 0.180*\"immunity\" + 0.125*\"nana\" + 0.108*\"mr\" + 0.104*\"march\" + 0.096*\"russian\" + 0.091*\"russia\" + 0.090*\"adviser\" + 0.087*\"30\" + 0.087*\"michael\"'),\n",
       " (3,\n",
       "  '-0.228*\"clinton\" + 0.186*\"school\" + 0.186*\"student\" + -0.146*\"hillary\" + -0.127*\"sander\" + 0.117*\"county\" + -0.099*\"debate\" + 0.094*\"flynn\" + -0.094*\"dnc\" + -0.089*\"woman\"'),\n",
       " (4,\n",
       "  '0.197*\"trump\" + 0.173*\"pic\" + 0.169*\"november\" + 0.158*\"com\" + 0.141*\"twitter\" + 0.139*\"vote\" + -0.137*\"email\" + 0.113*\"8\" + -0.105*\"clinton\" + 0.103*\"conway\"'),\n",
       " (5,\n",
       "  '0.301*\"student\" + 0.157*\"school\" + -0.142*\"putin\" + -0.119*\"mccain\" + 0.107*\"dnc\" + 0.105*\"campus\" + 0.102*\"yearbook\" + -0.100*\"obama\" + 0.096*\"trump\" + 0.093*\"career\"'),\n",
       " (6,\n",
       "  '0.171*\"flynn\" + -0.170*\"november\" + -0.161*\"dnc\" + -0.153*\"employee\" + -0.148*\"pic\" + -0.139*\"com\" + -0.136*\"tax\" + -0.128*\"twitter\" + -0.117*\"email\" + 0.116*\"student\"')]"
      ]
     },
     "execution_count": 72,
     "metadata": {},
     "output_type": "execute_result"
    }
   ],
   "source": [
    "lsa_model.print_topics()"
   ]
  },
  {
   "cell_type": "code",
   "execution_count": 73,
   "metadata": {},
   "outputs": [
    {
     "data": {
      "text/html": [
       "<div>\n",
       "<style scoped>\n",
       "    .dataframe tbody tr th:only-of-type {\n",
       "        vertical-align: middle;\n",
       "    }\n",
       "\n",
       "    .dataframe tbody tr th {\n",
       "        vertical-align: top;\n",
       "    }\n",
       "\n",
       "    .dataframe thead th {\n",
       "        text-align: right;\n",
       "    }\n",
       "</style>\n",
       "<table border=\"1\" class=\"dataframe\">\n",
       "  <thead>\n",
       "    <tr style=\"text-align: right;\">\n",
       "      <th></th>\n",
       "      <th>title</th>\n",
       "      <th>text</th>\n",
       "      <th>date</th>\n",
       "      <th>fake_or_factual</th>\n",
       "      <th>text_clean</th>\n",
       "      <th>sentiment_score</th>\n",
       "      <th>vader_sentiment_label</th>\n",
       "    </tr>\n",
       "  </thead>\n",
       "  <tbody>\n",
       "    <tr>\n",
       "      <th>0</th>\n",
       "      <td>HOLLYWEIRD LIB SUSAN SARANDON Compares Muslim ...</td>\n",
       "      <td>There are two small problems with your analogy...</td>\n",
       "      <td>Dec 30, 2015</td>\n",
       "      <td>Fake News</td>\n",
       "      <td>[two, small, problem, analogy, susan, jesus, m...</td>\n",
       "      <td>-0.3660</td>\n",
       "      <td>Negative</td>\n",
       "    </tr>\n",
       "    <tr>\n",
       "      <th>1</th>\n",
       "      <td>Elijah Cummings Called Trump Out To His Face ...</td>\n",
       "      <td>Buried in Trump s bonkers interview with New Y...</td>\n",
       "      <td>April 6, 2017</td>\n",
       "      <td>Fake News</td>\n",
       "      <td>[buried, trump, bonkers, interview, new, york,...</td>\n",
       "      <td>-0.8197</td>\n",
       "      <td>Negative</td>\n",
       "    </tr>\n",
       "    <tr>\n",
       "      <th>2</th>\n",
       "      <td>Hillary Clinton Says Half Her Cabinet Will Be...</td>\n",
       "      <td>Women make up over 50 percent of this country,...</td>\n",
       "      <td>April 26, 2016</td>\n",
       "      <td>Fake News</td>\n",
       "      <td>[woman, make, 50, percent, country, grossly, u...</td>\n",
       "      <td>0.9779</td>\n",
       "      <td>Positive</td>\n",
       "    </tr>\n",
       "    <tr>\n",
       "      <th>3</th>\n",
       "      <td>Russian bombing of U.S.-backed forces being di...</td>\n",
       "      <td>WASHINGTON (Reuters) - U.S. Defense Secretary ...</td>\n",
       "      <td>September 18, 2017</td>\n",
       "      <td>Factual News</td>\n",
       "      <td>[u, defense, secretary, jim, mattis, said, mon...</td>\n",
       "      <td>-0.3400</td>\n",
       "      <td>Negative</td>\n",
       "    </tr>\n",
       "    <tr>\n",
       "      <th>4</th>\n",
       "      <td>Britain says window to restore Northern Irelan...</td>\n",
       "      <td>BELFAST (Reuters) - Northern Ireland s politic...</td>\n",
       "      <td>September 4, 2017</td>\n",
       "      <td>Factual News</td>\n",
       "      <td>[northern, ireland, political, party, rapidly,...</td>\n",
       "      <td>0.8590</td>\n",
       "      <td>Positive</td>\n",
       "    </tr>\n",
       "  </tbody>\n",
       "</table>\n",
       "</div>"
      ],
      "text/plain": [
       "                                               title  \\\n",
       "0  HOLLYWEIRD LIB SUSAN SARANDON Compares Muslim ...   \n",
       "1   Elijah Cummings Called Trump Out To His Face ...   \n",
       "2   Hillary Clinton Says Half Her Cabinet Will Be...   \n",
       "3  Russian bombing of U.S.-backed forces being di...   \n",
       "4  Britain says window to restore Northern Irelan...   \n",
       "\n",
       "                                                text                date  \\\n",
       "0  There are two small problems with your analogy...        Dec 30, 2015   \n",
       "1  Buried in Trump s bonkers interview with New Y...       April 6, 2017   \n",
       "2  Women make up over 50 percent of this country,...      April 26, 2016   \n",
       "3  WASHINGTON (Reuters) - U.S. Defense Secretary ...  September 18, 2017   \n",
       "4  BELFAST (Reuters) - Northern Ireland s politic...   September 4, 2017   \n",
       "\n",
       "  fake_or_factual                                         text_clean  \\\n",
       "0       Fake News  [two, small, problem, analogy, susan, jesus, m...   \n",
       "1       Fake News  [buried, trump, bonkers, interview, new, york,...   \n",
       "2       Fake News  [woman, make, 50, percent, country, grossly, u...   \n",
       "3    Factual News  [u, defense, secretary, jim, mattis, said, mon...   \n",
       "4    Factual News  [northern, ireland, political, party, rapidly,...   \n",
       "\n",
       "   sentiment_score vader_sentiment_label  \n",
       "0          -0.3660              Negative  \n",
       "1          -0.8197              Negative  \n",
       "2           0.9779              Positive  \n",
       "3          -0.3400              Negative  \n",
       "4           0.8590              Positive  "
      ]
     },
     "execution_count": 73,
     "metadata": {},
     "output_type": "execute_result"
    }
   ],
   "source": [
    "df.head()"
   ]
  },
  {
   "cell_type": "code",
   "execution_count": null,
   "metadata": {},
   "outputs": [],
   "source": []
  },
  {
   "cell_type": "code",
   "execution_count": 74,
   "metadata": {},
   "outputs": [
    {
     "data": {
      "text/plain": [
       "0    [two, small, problem, analogy, susan, jesus, m...\n",
       "1    [buried, trump, bonkers, interview, new, york,...\n",
       "2    [woman, make, 50, percent, country, grossly, u...\n",
       "3    [u, defense, secretary, jim, mattis, said, mon...\n",
       "Name: text_clean, dtype: object"
      ]
     },
     "execution_count": 74,
     "metadata": {},
     "output_type": "execute_result"
    }
   ],
   "source": [
    "df['text_clean'][0:4]\n",
    "            "
   ]
  },
  {
   "cell_type": "code",
   "execution_count": 75,
   "metadata": {},
   "outputs": [],
   "source": [
    "# converting all the entries of df['text_clean] to first strings and then joining them by \",\"\n",
    "X = [\",\".join(map(str,i)) for i in df['text_clean']]\n",
    "Y = df['fake_or_factual']\n"
   ]
  },
  {
   "cell_type": "markdown",
   "metadata": {},
   "source": [
    "#### Converting the text data to numberic data for model training."
   ]
  },
  {
   "cell_type": "code",
   "execution_count": 76,
   "metadata": {},
   "outputs": [
    {
     "data": {
      "text/plain": [
       "(198, 8154)"
      ]
     },
     "execution_count": 76,
     "metadata": {},
     "output_type": "execute_result"
    }
   ],
   "source": [
    "countvec = CountVectorizer()\n",
    "countvec_fit = countvec.fit_transform(X)\n",
    "countvec_fit.shape\n"
   ]
  },
  {
   "cell_type": "code",
   "execution_count": 77,
   "metadata": {},
   "outputs": [
    {
     "name": "stdout",
     "output_type": "stream",
     "text": [
      "  (0, 7614)\t1\n",
      "  (0, 6807)\t1\n",
      "  (0, 5733)\t1\n",
      "  (0, 548)\t1\n",
      "  (0, 7205)\t2\n",
      "  (0, 4062)\t1\n",
      "  (0, 4902)\t2\n",
      "  (0, 4096)\t3\n",
      "  (0, 7528)\t1\n",
      "  (0, 976)\t2\n",
      "  (0, 4613)\t3\n",
      "  (0, 607)\t1\n",
      "  (0, 5398)\t1\n",
      "  (0, 775)\t1\n",
      "  (0, 629)\t1\n",
      "  (0, 4577)\t1\n",
      "  (0, 2904)\t1\n",
      "  (0, 6050)\t6\n",
      "  (0, 306)\t1\n",
      "  (0, 4539)\t1\n",
      "  (0, 3319)\t2\n",
      "  (0, 6459)\t4\n",
      "  (0, 6920)\t2\n",
      "  (0, 1432)\t1\n",
      "  (0, 3575)\t1\n",
      "  :\t:\n",
      "  (197, 5347)\t1\n",
      "  (197, 4178)\t1\n",
      "  (197, 6717)\t2\n",
      "  (197, 3777)\t1\n",
      "  (197, 8128)\t2\n",
      "  (197, 372)\t1\n",
      "  (197, 2240)\t1\n",
      "  (197, 5823)\t1\n",
      "  (197, 2268)\t1\n",
      "  (197, 3501)\t1\n",
      "  (197, 6776)\t1\n",
      "  (197, 7677)\t1\n",
      "  (197, 2478)\t1\n",
      "  (197, 628)\t1\n",
      "  (197, 2288)\t1\n",
      "  (197, 535)\t1\n",
      "  (197, 3175)\t1\n",
      "  (197, 205)\t1\n",
      "  (197, 4287)\t1\n",
      "  (197, 7774)\t1\n",
      "  (197, 7630)\t1\n",
      "  (197, 6085)\t1\n",
      "  (197, 5572)\t1\n",
      "  (197, 3292)\t1\n",
      "  (197, 5458)\t1\n"
     ]
    }
   ],
   "source": [
    "countvec_fit[0].shape\n",
    "print(countvec_fit)"
   ]
  },
  {
   "cell_type": "code",
   "execution_count": 78,
   "metadata": {},
   "outputs": [],
   "source": [
    "bag_of_words = pd.DataFrame(countvec_fit.toarray(), columns = countvec.get_feature_names_out())"
   ]
  },
  {
   "cell_type": "code",
   "execution_count": 79,
   "metadata": {},
   "outputs": [
    {
     "data": {
      "text/html": [
       "<div>\n",
       "<style scoped>\n",
       "    .dataframe tbody tr th:only-of-type {\n",
       "        vertical-align: middle;\n",
       "    }\n",
       "\n",
       "    .dataframe tbody tr th {\n",
       "        vertical-align: top;\n",
       "    }\n",
       "\n",
       "    .dataframe thead th {\n",
       "        text-align: right;\n",
       "    }\n",
       "</style>\n",
       "<table border=\"1\" class=\"dataframe\">\n",
       "  <thead>\n",
       "    <tr style=\"text-align: right;\">\n",
       "      <th></th>\n",
       "      <th>00</th>\n",
       "      <th>000</th>\n",
       "      <th>01</th>\n",
       "      <th>07</th>\n",
       "      <th>0gf8of9pfy</th>\n",
       "      <th>10</th>\n",
       "      <th>100</th>\n",
       "      <th>1002</th>\n",
       "      <th>102</th>\n",
       "      <th>102please</th>\n",
       "      <th>...</th>\n",
       "      <th>zimdars</th>\n",
       "      <th>zimmerman</th>\n",
       "      <th>zina</th>\n",
       "      <th>zionism</th>\n",
       "      <th>znawbaw7ay</th>\n",
       "      <th>zoe</th>\n",
       "      <th>zone</th>\n",
       "      <th>zoom</th>\n",
       "      <th>zouka</th>\n",
       "      <th>zuckerberg</th>\n",
       "    </tr>\n",
       "  </thead>\n",
       "  <tbody>\n",
       "    <tr>\n",
       "      <th>0</th>\n",
       "      <td>0</td>\n",
       "      <td>0</td>\n",
       "      <td>0</td>\n",
       "      <td>0</td>\n",
       "      <td>0</td>\n",
       "      <td>0</td>\n",
       "      <td>0</td>\n",
       "      <td>0</td>\n",
       "      <td>0</td>\n",
       "      <td>0</td>\n",
       "      <td>...</td>\n",
       "      <td>0</td>\n",
       "      <td>0</td>\n",
       "      <td>0</td>\n",
       "      <td>0</td>\n",
       "      <td>0</td>\n",
       "      <td>0</td>\n",
       "      <td>0</td>\n",
       "      <td>0</td>\n",
       "      <td>0</td>\n",
       "      <td>0</td>\n",
       "    </tr>\n",
       "    <tr>\n",
       "      <th>1</th>\n",
       "      <td>0</td>\n",
       "      <td>0</td>\n",
       "      <td>0</td>\n",
       "      <td>0</td>\n",
       "      <td>0</td>\n",
       "      <td>0</td>\n",
       "      <td>0</td>\n",
       "      <td>0</td>\n",
       "      <td>0</td>\n",
       "      <td>0</td>\n",
       "      <td>...</td>\n",
       "      <td>0</td>\n",
       "      <td>0</td>\n",
       "      <td>0</td>\n",
       "      <td>0</td>\n",
       "      <td>0</td>\n",
       "      <td>0</td>\n",
       "      <td>0</td>\n",
       "      <td>0</td>\n",
       "      <td>0</td>\n",
       "      <td>0</td>\n",
       "    </tr>\n",
       "    <tr>\n",
       "      <th>2</th>\n",
       "      <td>0</td>\n",
       "      <td>0</td>\n",
       "      <td>0</td>\n",
       "      <td>0</td>\n",
       "      <td>0</td>\n",
       "      <td>0</td>\n",
       "      <td>0</td>\n",
       "      <td>0</td>\n",
       "      <td>0</td>\n",
       "      <td>0</td>\n",
       "      <td>...</td>\n",
       "      <td>0</td>\n",
       "      <td>0</td>\n",
       "      <td>0</td>\n",
       "      <td>0</td>\n",
       "      <td>0</td>\n",
       "      <td>0</td>\n",
       "      <td>0</td>\n",
       "      <td>0</td>\n",
       "      <td>0</td>\n",
       "      <td>0</td>\n",
       "    </tr>\n",
       "    <tr>\n",
       "      <th>3</th>\n",
       "      <td>0</td>\n",
       "      <td>0</td>\n",
       "      <td>0</td>\n",
       "      <td>0</td>\n",
       "      <td>0</td>\n",
       "      <td>0</td>\n",
       "      <td>0</td>\n",
       "      <td>0</td>\n",
       "      <td>0</td>\n",
       "      <td>0</td>\n",
       "      <td>...</td>\n",
       "      <td>0</td>\n",
       "      <td>0</td>\n",
       "      <td>0</td>\n",
       "      <td>0</td>\n",
       "      <td>0</td>\n",
       "      <td>0</td>\n",
       "      <td>0</td>\n",
       "      <td>0</td>\n",
       "      <td>0</td>\n",
       "      <td>0</td>\n",
       "    </tr>\n",
       "    <tr>\n",
       "      <th>4</th>\n",
       "      <td>0</td>\n",
       "      <td>0</td>\n",
       "      <td>0</td>\n",
       "      <td>0</td>\n",
       "      <td>0</td>\n",
       "      <td>0</td>\n",
       "      <td>0</td>\n",
       "      <td>0</td>\n",
       "      <td>0</td>\n",
       "      <td>0</td>\n",
       "      <td>...</td>\n",
       "      <td>0</td>\n",
       "      <td>0</td>\n",
       "      <td>0</td>\n",
       "      <td>0</td>\n",
       "      <td>0</td>\n",
       "      <td>0</td>\n",
       "      <td>0</td>\n",
       "      <td>0</td>\n",
       "      <td>0</td>\n",
       "      <td>0</td>\n",
       "    </tr>\n",
       "    <tr>\n",
       "      <th>...</th>\n",
       "      <td>...</td>\n",
       "      <td>...</td>\n",
       "      <td>...</td>\n",
       "      <td>...</td>\n",
       "      <td>...</td>\n",
       "      <td>...</td>\n",
       "      <td>...</td>\n",
       "      <td>...</td>\n",
       "      <td>...</td>\n",
       "      <td>...</td>\n",
       "      <td>...</td>\n",
       "      <td>...</td>\n",
       "      <td>...</td>\n",
       "      <td>...</td>\n",
       "      <td>...</td>\n",
       "      <td>...</td>\n",
       "      <td>...</td>\n",
       "      <td>...</td>\n",
       "      <td>...</td>\n",
       "      <td>...</td>\n",
       "      <td>...</td>\n",
       "    </tr>\n",
       "    <tr>\n",
       "      <th>193</th>\n",
       "      <td>0</td>\n",
       "      <td>0</td>\n",
       "      <td>0</td>\n",
       "      <td>0</td>\n",
       "      <td>0</td>\n",
       "      <td>0</td>\n",
       "      <td>0</td>\n",
       "      <td>0</td>\n",
       "      <td>0</td>\n",
       "      <td>0</td>\n",
       "      <td>...</td>\n",
       "      <td>0</td>\n",
       "      <td>0</td>\n",
       "      <td>0</td>\n",
       "      <td>0</td>\n",
       "      <td>0</td>\n",
       "      <td>0</td>\n",
       "      <td>0</td>\n",
       "      <td>0</td>\n",
       "      <td>0</td>\n",
       "      <td>0</td>\n",
       "    </tr>\n",
       "    <tr>\n",
       "      <th>194</th>\n",
       "      <td>0</td>\n",
       "      <td>0</td>\n",
       "      <td>0</td>\n",
       "      <td>0</td>\n",
       "      <td>0</td>\n",
       "      <td>0</td>\n",
       "      <td>0</td>\n",
       "      <td>0</td>\n",
       "      <td>0</td>\n",
       "      <td>0</td>\n",
       "      <td>...</td>\n",
       "      <td>0</td>\n",
       "      <td>1</td>\n",
       "      <td>0</td>\n",
       "      <td>0</td>\n",
       "      <td>0</td>\n",
       "      <td>0</td>\n",
       "      <td>0</td>\n",
       "      <td>0</td>\n",
       "      <td>0</td>\n",
       "      <td>0</td>\n",
       "    </tr>\n",
       "    <tr>\n",
       "      <th>195</th>\n",
       "      <td>0</td>\n",
       "      <td>1</td>\n",
       "      <td>0</td>\n",
       "      <td>0</td>\n",
       "      <td>0</td>\n",
       "      <td>0</td>\n",
       "      <td>0</td>\n",
       "      <td>0</td>\n",
       "      <td>0</td>\n",
       "      <td>0</td>\n",
       "      <td>...</td>\n",
       "      <td>0</td>\n",
       "      <td>0</td>\n",
       "      <td>0</td>\n",
       "      <td>0</td>\n",
       "      <td>0</td>\n",
       "      <td>0</td>\n",
       "      <td>0</td>\n",
       "      <td>0</td>\n",
       "      <td>0</td>\n",
       "      <td>0</td>\n",
       "    </tr>\n",
       "    <tr>\n",
       "      <th>196</th>\n",
       "      <td>0</td>\n",
       "      <td>0</td>\n",
       "      <td>0</td>\n",
       "      <td>0</td>\n",
       "      <td>0</td>\n",
       "      <td>0</td>\n",
       "      <td>0</td>\n",
       "      <td>0</td>\n",
       "      <td>0</td>\n",
       "      <td>0</td>\n",
       "      <td>...</td>\n",
       "      <td>0</td>\n",
       "      <td>0</td>\n",
       "      <td>0</td>\n",
       "      <td>0</td>\n",
       "      <td>0</td>\n",
       "      <td>0</td>\n",
       "      <td>0</td>\n",
       "      <td>0</td>\n",
       "      <td>0</td>\n",
       "      <td>0</td>\n",
       "    </tr>\n",
       "    <tr>\n",
       "      <th>197</th>\n",
       "      <td>0</td>\n",
       "      <td>1</td>\n",
       "      <td>0</td>\n",
       "      <td>0</td>\n",
       "      <td>0</td>\n",
       "      <td>0</td>\n",
       "      <td>0</td>\n",
       "      <td>0</td>\n",
       "      <td>0</td>\n",
       "      <td>0</td>\n",
       "      <td>...</td>\n",
       "      <td>0</td>\n",
       "      <td>0</td>\n",
       "      <td>0</td>\n",
       "      <td>0</td>\n",
       "      <td>0</td>\n",
       "      <td>0</td>\n",
       "      <td>0</td>\n",
       "      <td>0</td>\n",
       "      <td>0</td>\n",
       "      <td>0</td>\n",
       "    </tr>\n",
       "  </tbody>\n",
       "</table>\n",
       "<p>198 rows × 8154 columns</p>\n",
       "</div>"
      ],
      "text/plain": [
       "     00  000  01  07  0gf8of9pfy  10  100  1002  102  102please  ...  zimdars  \\\n",
       "0     0    0   0   0           0   0    0     0    0          0  ...        0   \n",
       "1     0    0   0   0           0   0    0     0    0          0  ...        0   \n",
       "2     0    0   0   0           0   0    0     0    0          0  ...        0   \n",
       "3     0    0   0   0           0   0    0     0    0          0  ...        0   \n",
       "4     0    0   0   0           0   0    0     0    0          0  ...        0   \n",
       "..   ..  ...  ..  ..         ...  ..  ...   ...  ...        ...  ...      ...   \n",
       "193   0    0   0   0           0   0    0     0    0          0  ...        0   \n",
       "194   0    0   0   0           0   0    0     0    0          0  ...        0   \n",
       "195   0    1   0   0           0   0    0     0    0          0  ...        0   \n",
       "196   0    0   0   0           0   0    0     0    0          0  ...        0   \n",
       "197   0    1   0   0           0   0    0     0    0          0  ...        0   \n",
       "\n",
       "     zimmerman  zina  zionism  znawbaw7ay  zoe  zone  zoom  zouka  zuckerberg  \n",
       "0            0     0        0           0    0     0     0      0           0  \n",
       "1            0     0        0           0    0     0     0      0           0  \n",
       "2            0     0        0           0    0     0     0      0           0  \n",
       "3            0     0        0           0    0     0     0      0           0  \n",
       "4            0     0        0           0    0     0     0      0           0  \n",
       "..         ...   ...      ...         ...  ...   ...   ...    ...         ...  \n",
       "193          0     0        0           0    0     0     0      0           0  \n",
       "194          1     0        0           0    0     0     0      0           0  \n",
       "195          0     0        0           0    0     0     0      0           0  \n",
       "196          0     0        0           0    0     0     0      0           0  \n",
       "197          0     0        0           0    0     0     0      0           0  \n",
       "\n",
       "[198 rows x 8154 columns]"
      ]
     },
     "execution_count": 79,
     "metadata": {},
     "output_type": "execute_result"
    }
   ],
   "source": [
    "bag_of_words"
   ]
  },
  {
   "cell_type": "code",
   "execution_count": 80,
   "metadata": {},
   "outputs": [],
   "source": [
    "X_train, X_test, Y_train, Y_test = train_test_split(bag_of_words, Y, test_size = 0.2, random_state = 42)"
   ]
  },
  {
   "cell_type": "code",
   "execution_count": 81,
   "metadata": {},
   "outputs": [],
   "source": [
    "lr = LogisticRegression(random_state=0).fit(X_train, Y_train)"
   ]
  },
  {
   "cell_type": "code",
   "execution_count": 82,
   "metadata": {},
   "outputs": [],
   "source": [
    "y_pred_lr = lr.predict(X_test)"
   ]
  },
  {
   "cell_type": "code",
   "execution_count": 83,
   "metadata": {},
   "outputs": [
    {
     "data": {
      "text/plain": [
       "0.85"
      ]
     },
     "execution_count": 83,
     "metadata": {},
     "output_type": "execute_result"
    }
   ],
   "source": [
    "accuracy_score(y_pred_lr,Y_test )"
   ]
  },
  {
   "cell_type": "code",
   "execution_count": 84,
   "metadata": {},
   "outputs": [
    {
     "name": "stdout",
     "output_type": "stream",
     "text": [
      "              precision    recall  f1-score   support\n",
      "\n",
      "Factual News       0.84      0.84      0.84        19\n",
      "   Fake News       0.86      0.86      0.86        21\n",
      "\n",
      "    accuracy                           0.85        40\n",
      "   macro avg       0.85      0.85      0.85        40\n",
      "weighted avg       0.85      0.85      0.85        40\n",
      "\n"
     ]
    }
   ],
   "source": [
    "from sklearn.metrics import classification_report\n",
    "print(classification_report(Y_test, y_pred_lr))"
   ]
  },
  {
   "cell_type": "code",
   "execution_count": null,
   "metadata": {},
   "outputs": [],
   "source": []
  },
  {
   "cell_type": "code",
   "execution_count": null,
   "metadata": {},
   "outputs": [],
   "source": []
  },
  {
   "cell_type": "code",
   "execution_count": null,
   "metadata": {},
   "outputs": [],
   "source": []
  },
  {
   "cell_type": "code",
   "execution_count": null,
   "metadata": {},
   "outputs": [],
   "source": []
  },
  {
   "cell_type": "code",
   "execution_count": null,
   "metadata": {},
   "outputs": [],
   "source": []
  },
  {
   "cell_type": "code",
   "execution_count": null,
   "metadata": {},
   "outputs": [],
   "source": []
  },
  {
   "cell_type": "markdown",
   "metadata": {},
   "source": []
  }
 ],
 "metadata": {
  "kernelspec": {
   "display_name": "projvenv",
   "language": "python",
   "name": "python3"
  },
  "language_info": {
   "codemirror_mode": {
    "name": "ipython",
    "version": 3
   },
   "file_extension": ".py",
   "mimetype": "text/x-python",
   "name": "python",
   "nbconvert_exporter": "python",
   "pygments_lexer": "ipython3",
   "version": "3.9.21"
  }
 },
 "nbformat": 4,
 "nbformat_minor": 2
}
